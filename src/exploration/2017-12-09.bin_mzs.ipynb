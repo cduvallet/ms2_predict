{
 "cells": [
  {
   "cell_type": "markdown",
   "metadata": {},
   "source": [
    "Exploratory code to figure out the best way to bin the mz's.\n",
    "\n",
    "- Rounding to the nearest integer (neg, pos, all)\n",
    "- Defining bins of equal mz width (neg, pos, all)\n",
    "- Defining bins with equal numbers of fragments (neg, pos, all)\n",
    "  - (i.e. partitioning mz’s based on quantiles)\n"
   ]
  },
  {
   "cell_type": "code",
   "execution_count": 1,
   "metadata": {
    "collapsed": true
   },
   "outputs": [],
   "source": [
    "import pandas as pd\n",
    "import json\n",
    "import copy"
   ]
  },
  {
   "cell_type": "code",
   "execution_count": 2,
   "metadata": {
    "collapsed": true
   },
   "outputs": [],
   "source": [
    "fname = '../../data/clean/clean_spectra.json'\n",
    "with open(fname, 'r') as f:\n",
    "    all_spectra = json.load(f)"
   ]
  },
  {
   "cell_type": "code",
   "execution_count": 3,
   "metadata": {
    "collapsed": false
   },
   "outputs": [
    {
     "data": {
      "text/plain": [
       "4899"
      ]
     },
     "execution_count": 3,
     "metadata": {},
     "output_type": "execute_result"
    }
   ],
   "source": [
    "len(all_spectra)"
   ]
  },
  {
   "cell_type": "code",
   "execution_count": 4,
   "metadata": {
    "collapsed": false
   },
   "outputs": [
    {
     "data": {
      "text/plain": [
       "(u'KDXKERNSBIXSRK-YFKPBYRVSA-N_MS2-12_Negative',\n",
       " {u'class': u'Carboxylic acids and derivatives;',\n",
       "  u'inchi': u'KDXKERNSBIXSRK-YFKPBYRVSA-N',\n",
       "  u'ionization': u'Negative',\n",
       "  u'kingdom': u'Organic compounds',\n",
       "  u'parentmass': 146.105527702,\n",
       "  u'peaks': [[41.1, 0.004004004],\n",
       "   [57.0, 0.001001001],\n",
       "   [58.9, 0.023023023],\n",
       "   [69.2, 0.1911911912],\n",
       "   [70.8, 0.007007007],\n",
       "   [73.2, 0.044044044],\n",
       "   [83.3, 0.005005005],\n",
       "   [97.1, 0.025025025],\n",
       "   [99.0, 0.0590590591],\n",
       "   [101.1, 0.02002002],\n",
       "   [113.2, 0.0750750751],\n",
       "   [114.6, 0.002002002],\n",
       "   [145.1, 1.0]],\n",
       "  u'sub_class': u'Amino acids, peptides, and analogues'})"
      ]
     },
     "execution_count": 4,
     "metadata": {},
     "output_type": "execute_result"
    }
   ],
   "source": [
    "all_spectra.items()[0]"
   ]
  },
  {
   "cell_type": "code",
   "execution_count": 5,
   "metadata": {
    "collapsed": true
   },
   "outputs": [],
   "source": [
    "# Make tidy dataframe with spectra-related metadata, mz, intensity\n",
    "dflst = []\n",
    "\n",
    "spec_keys = ['inchi', 'ionization', 'kingdom', 'sub_class', 'class', 'parentmass']\n",
    "\n",
    "for spec_id, spectrum in all_spectra.iteritems():\n",
    "    # Get the spectrum-related metadata\n",
    "    spec_metadata = [spectrum[k] for k in spec_keys]\n",
    "    # Get the spectra number from the label\n",
    "    spec_metadata += [spec_id.split('_')[1].split('-')[1]]\n",
    "    # Add each mz, int pair as its own entry\n",
    "    dflst += [spec_metadata + [p[0], p[1]] for p in spectrum['peaks']]"
   ]
  },
  {
   "cell_type": "code",
   "execution_count": 6,
   "metadata": {
    "collapsed": false
   },
   "outputs": [],
   "source": [
    "df = pd.DataFrame(dflst, columns=spec_keys + ['scan_id', 'mz', 'intensity'])"
   ]
  },
  {
   "cell_type": "code",
   "execution_count": 7,
   "metadata": {
    "collapsed": false
   },
   "outputs": [
    {
     "data": {
      "text/html": [
       "<div>\n",
       "<table border=\"1\" class=\"dataframe\">\n",
       "  <thead>\n",
       "    <tr style=\"text-align: right;\">\n",
       "      <th></th>\n",
       "      <th>inchi</th>\n",
       "      <th>ionization</th>\n",
       "      <th>kingdom</th>\n",
       "      <th>sub_class</th>\n",
       "      <th>class</th>\n",
       "      <th>parentmass</th>\n",
       "      <th>scan_id</th>\n",
       "      <th>mz</th>\n",
       "      <th>intensity</th>\n",
       "    </tr>\n",
       "  </thead>\n",
       "  <tbody>\n",
       "    <tr>\n",
       "      <th>0</th>\n",
       "      <td>KDXKERNSBIXSRK-YFKPBYRVSA-N</td>\n",
       "      <td>Negative</td>\n",
       "      <td>Organic compounds</td>\n",
       "      <td>Amino acids, peptides, and analogues</td>\n",
       "      <td>Carboxylic acids and derivatives;</td>\n",
       "      <td>146.105528</td>\n",
       "      <td>12</td>\n",
       "      <td>41.1</td>\n",
       "      <td>0.004004</td>\n",
       "    </tr>\n",
       "    <tr>\n",
       "      <th>1</th>\n",
       "      <td>KDXKERNSBIXSRK-YFKPBYRVSA-N</td>\n",
       "      <td>Negative</td>\n",
       "      <td>Organic compounds</td>\n",
       "      <td>Amino acids, peptides, and analogues</td>\n",
       "      <td>Carboxylic acids and derivatives;</td>\n",
       "      <td>146.105528</td>\n",
       "      <td>12</td>\n",
       "      <td>57.0</td>\n",
       "      <td>0.001001</td>\n",
       "    </tr>\n",
       "    <tr>\n",
       "      <th>2</th>\n",
       "      <td>KDXKERNSBIXSRK-YFKPBYRVSA-N</td>\n",
       "      <td>Negative</td>\n",
       "      <td>Organic compounds</td>\n",
       "      <td>Amino acids, peptides, and analogues</td>\n",
       "      <td>Carboxylic acids and derivatives;</td>\n",
       "      <td>146.105528</td>\n",
       "      <td>12</td>\n",
       "      <td>58.9</td>\n",
       "      <td>0.023023</td>\n",
       "    </tr>\n",
       "    <tr>\n",
       "      <th>3</th>\n",
       "      <td>KDXKERNSBIXSRK-YFKPBYRVSA-N</td>\n",
       "      <td>Negative</td>\n",
       "      <td>Organic compounds</td>\n",
       "      <td>Amino acids, peptides, and analogues</td>\n",
       "      <td>Carboxylic acids and derivatives;</td>\n",
       "      <td>146.105528</td>\n",
       "      <td>12</td>\n",
       "      <td>69.2</td>\n",
       "      <td>0.191191</td>\n",
       "    </tr>\n",
       "    <tr>\n",
       "      <th>4</th>\n",
       "      <td>KDXKERNSBIXSRK-YFKPBYRVSA-N</td>\n",
       "      <td>Negative</td>\n",
       "      <td>Organic compounds</td>\n",
       "      <td>Amino acids, peptides, and analogues</td>\n",
       "      <td>Carboxylic acids and derivatives;</td>\n",
       "      <td>146.105528</td>\n",
       "      <td>12</td>\n",
       "      <td>70.8</td>\n",
       "      <td>0.007007</td>\n",
       "    </tr>\n",
       "  </tbody>\n",
       "</table>\n",
       "</div>"
      ],
      "text/plain": [
       "                         inchi ionization            kingdom  \\\n",
       "0  KDXKERNSBIXSRK-YFKPBYRVSA-N   Negative  Organic compounds   \n",
       "1  KDXKERNSBIXSRK-YFKPBYRVSA-N   Negative  Organic compounds   \n",
       "2  KDXKERNSBIXSRK-YFKPBYRVSA-N   Negative  Organic compounds   \n",
       "3  KDXKERNSBIXSRK-YFKPBYRVSA-N   Negative  Organic compounds   \n",
       "4  KDXKERNSBIXSRK-YFKPBYRVSA-N   Negative  Organic compounds   \n",
       "\n",
       "                              sub_class                              class  \\\n",
       "0  Amino acids, peptides, and analogues  Carboxylic acids and derivatives;   \n",
       "1  Amino acids, peptides, and analogues  Carboxylic acids and derivatives;   \n",
       "2  Amino acids, peptides, and analogues  Carboxylic acids and derivatives;   \n",
       "3  Amino acids, peptides, and analogues  Carboxylic acids and derivatives;   \n",
       "4  Amino acids, peptides, and analogues  Carboxylic acids and derivatives;   \n",
       "\n",
       "   parentmass scan_id    mz  intensity  \n",
       "0  146.105528      12  41.1   0.004004  \n",
       "1  146.105528      12  57.0   0.001001  \n",
       "2  146.105528      12  58.9   0.023023  \n",
       "3  146.105528      12  69.2   0.191191  \n",
       "4  146.105528      12  70.8   0.007007  "
      ]
     },
     "execution_count": 7,
     "metadata": {},
     "output_type": "execute_result"
    }
   ],
   "source": [
    "df.head()"
   ]
  },
  {
   "cell_type": "markdown",
   "metadata": {},
   "source": [
    "Before we start binning things, we're going to need to remove duplicates peaks. Since the presence of duplicates might depend on ionization mode, we need to do this for each of the modes."
   ]
  },
  {
   "cell_type": "code",
   "execution_count": 8,
   "metadata": {
    "collapsed": false
   },
   "outputs": [
    {
     "data": {
      "text/plain": [
       "array([u'Negative', u'Positive', u'N/A'], dtype=object)"
      ]
     },
     "execution_count": 8,
     "metadata": {},
     "output_type": "execute_result"
    }
   ],
   "source": [
    "df['ionization'].unique()"
   ]
  },
  {
   "cell_type": "code",
   "execution_count": 9,
   "metadata": {
    "collapsed": false
   },
   "outputs": [
    {
     "data": {
      "text/plain": [
       "(67,)"
      ]
     },
     "execution_count": 9,
     "metadata": {},
     "output_type": "execute_result"
    }
   ],
   "source": [
    "df.query('ionization == \"N/A\"')['inchi'].unique().shape"
   ]
  },
  {
   "cell_type": "code",
   "execution_count": 10,
   "metadata": {
    "collapsed": true
   },
   "outputs": [],
   "source": [
    "pos = df.query('ionization == \"Positive\"')\n",
    "neg = df.query('ionization == \"Negative\"')\n",
    "# and df has all of the scans, including the ones labeled N/A"
   ]
  },
  {
   "cell_type": "code",
   "execution_count": 11,
   "metadata": {
    "collapsed": false
   },
   "outputs": [],
   "source": [
    "# If there are duplicate peaks, we'll just pick the one with the highest intensity\n",
    "def remove_dup_mzs(df):\n",
    "    \"\"\"\n",
    "    Remove duplicate mz's in df, keeping only the ones with the highest intensity.\n",
    "    \"\"\"\n",
    "    return (df\n",
    "        .sort_values(by='intensity', ascending=False)\n",
    "        .drop_duplicates(subset=['inchi', 'mz'], keep='first'))"
   ]
  },
  {
   "cell_type": "code",
   "execution_count": 12,
   "metadata": {
    "collapsed": false
   },
   "outputs": [],
   "source": [
    "pos = remove_dup_mzs(pos)\n",
    "neg = remove_dup_mzs(neg)\n",
    "both = remove_dup_mzs(df)"
   ]
  },
  {
   "cell_type": "code",
   "execution_count": 24,
   "metadata": {
    "collapsed": false
   },
   "outputs": [
    {
     "data": {
      "text/html": [
       "<div>\n",
       "<table border=\"1\" class=\"dataframe\">\n",
       "  <thead>\n",
       "    <tr style=\"text-align: right;\">\n",
       "      <th></th>\n",
       "      <th>inchi</th>\n",
       "      <th>ionization</th>\n",
       "      <th>kingdom</th>\n",
       "      <th>sub_class</th>\n",
       "      <th>class</th>\n",
       "      <th>parentmass</th>\n",
       "      <th>scan_id</th>\n",
       "      <th>mz</th>\n",
       "      <th>intensity</th>\n",
       "    </tr>\n",
       "  </thead>\n",
       "  <tbody>\n",
       "    <tr>\n",
       "      <th>76127</th>\n",
       "      <td>ACFIXJIJDZMPPO-NCHANQSKSA-N</td>\n",
       "      <td>Positive</td>\n",
       "      <td>Chemical entities</td>\n",
       "      <td>(5'-&gt;5')-dinucleotides</td>\n",
       "      <td>Nucleosides, nucleotides, and analogues;</td>\n",
       "      <td>745.091102</td>\n",
       "      <td>1</td>\n",
       "      <td>509.097</td>\n",
       "      <td>100.000</td>\n",
       "    </tr>\n",
       "    <tr>\n",
       "      <th>65140</th>\n",
       "      <td>ACFIXJIJDZMPPO-NCHANQSKSA-N</td>\n",
       "      <td>Positive</td>\n",
       "      <td>Chemical entities</td>\n",
       "      <td>(5'-&gt;5')-dinucleotides</td>\n",
       "      <td>Nucleosides, nucleotides, and analogues;</td>\n",
       "      <td>745.091102</td>\n",
       "      <td>2</td>\n",
       "      <td>435.280</td>\n",
       "      <td>100.000</td>\n",
       "    </tr>\n",
       "    <tr>\n",
       "      <th>102882</th>\n",
       "      <td>ACFIXJIJDZMPPO-NCHANQSKSA-N</td>\n",
       "      <td>Positive</td>\n",
       "      <td>Chemical entities</td>\n",
       "      <td>(5'-&gt;5')-dinucleotides</td>\n",
       "      <td>Nucleosides, nucleotides, and analogues;</td>\n",
       "      <td>745.091102</td>\n",
       "      <td>0</td>\n",
       "      <td>169.605</td>\n",
       "      <td>100.000</td>\n",
       "    </tr>\n",
       "    <tr>\n",
       "      <th>76115</th>\n",
       "      <td>ACFIXJIJDZMPPO-NCHANQSKSA-N</td>\n",
       "      <td>Positive</td>\n",
       "      <td>Chemical entities</td>\n",
       "      <td>(5'-&gt;5')-dinucleotides</td>\n",
       "      <td>Nucleosides, nucleotides, and analogues;</td>\n",
       "      <td>745.091102</td>\n",
       "      <td>1</td>\n",
       "      <td>135.889</td>\n",
       "      <td>96.110</td>\n",
       "    </tr>\n",
       "    <tr>\n",
       "      <th>102901</th>\n",
       "      <td>ACFIXJIJDZMPPO-NCHANQSKSA-N</td>\n",
       "      <td>Positive</td>\n",
       "      <td>Chemical entities</td>\n",
       "      <td>(5'-&gt;5')-dinucleotides</td>\n",
       "      <td>Nucleosides, nucleotides, and analogues;</td>\n",
       "      <td>745.091102</td>\n",
       "      <td>0</td>\n",
       "      <td>345.770</td>\n",
       "      <td>93.015</td>\n",
       "    </tr>\n",
       "  </tbody>\n",
       "</table>\n",
       "</div>"
      ],
      "text/plain": [
       "                              inchi ionization            kingdom  \\\n",
       "76127   ACFIXJIJDZMPPO-NCHANQSKSA-N   Positive  Chemical entities   \n",
       "65140   ACFIXJIJDZMPPO-NCHANQSKSA-N   Positive  Chemical entities   \n",
       "102882  ACFIXJIJDZMPPO-NCHANQSKSA-N   Positive  Chemical entities   \n",
       "76115   ACFIXJIJDZMPPO-NCHANQSKSA-N   Positive  Chemical entities   \n",
       "102901  ACFIXJIJDZMPPO-NCHANQSKSA-N   Positive  Chemical entities   \n",
       "\n",
       "                     sub_class                                     class  \\\n",
       "76127   (5'->5')-dinucleotides  Nucleosides, nucleotides, and analogues;   \n",
       "65140   (5'->5')-dinucleotides  Nucleosides, nucleotides, and analogues;   \n",
       "102882  (5'->5')-dinucleotides  Nucleosides, nucleotides, and analogues;   \n",
       "76115   (5'->5')-dinucleotides  Nucleosides, nucleotides, and analogues;   \n",
       "102901  (5'->5')-dinucleotides  Nucleosides, nucleotides, and analogues;   \n",
       "\n",
       "        parentmass scan_id       mz  intensity  \n",
       "76127   745.091102       1  509.097    100.000  \n",
       "65140   745.091102       2  435.280    100.000  \n",
       "102882  745.091102       0  169.605    100.000  \n",
       "76115   745.091102       1  135.889     96.110  \n",
       "102901  745.091102       0  345.770     93.015  "
      ]
     },
     "execution_count": 24,
     "metadata": {},
     "output_type": "execute_result"
    }
   ],
   "source": [
    "tmp = both.query('inchi == \"ACFIXJIJDZMPPO-NCHANQSKSA-N\"')\n",
    "tmp.head()"
   ]
  },
  {
   "cell_type": "code",
   "execution_count": 62,
   "metadata": {
    "collapsed": false
   },
   "outputs": [
    {
     "name": "stdout",
     "output_type": "stream",
     "text": [
      "((70624, 9), (50428, 9), (121780, 9))\n"
     ]
    }
   ],
   "source": [
    "print(pos.shape, neg.shape, both.shape)"
   ]
  },
  {
   "cell_type": "code",
   "execution_count": 65,
   "metadata": {
    "collapsed": false
   },
   "outputs": [
    {
     "data": {
      "text/html": [
       "<div>\n",
       "<table border=\"1\" class=\"dataframe\">\n",
       "  <thead>\n",
       "    <tr style=\"text-align: right;\">\n",
       "      <th></th>\n",
       "      <th>inchi</th>\n",
       "      <th>ionization</th>\n",
       "      <th>kingdom</th>\n",
       "      <th>sub_class</th>\n",
       "      <th>class</th>\n",
       "      <th>parentmass</th>\n",
       "      <th>scan_id</th>\n",
       "      <th>mz</th>\n",
       "      <th>intensity</th>\n",
       "    </tr>\n",
       "  </thead>\n",
       "  <tbody>\n",
       "    <tr>\n",
       "      <th>21568</th>\n",
       "      <td>AGPKZVBTJJNPAG-UHNVWZDZSA-N</td>\n",
       "      <td>Positive</td>\n",
       "      <td>Chemical entities</td>\n",
       "      <td>Carboxylic acids and derivatives</td>\n",
       "      <td>Organic acids and derivatives;</td>\n",
       "      <td>131.094629</td>\n",
       "      <td>2</td>\n",
       "      <td>41.353</td>\n",
       "      <td>100.0</td>\n",
       "    </tr>\n",
       "    <tr>\n",
       "      <th>56738</th>\n",
       "      <td>IERHLVCPSMICTF-XVFCMESISA-N</td>\n",
       "      <td>Positive</td>\n",
       "      <td>Chemical entities</td>\n",
       "      <td>Pyrimidine nucleotides</td>\n",
       "      <td>Nucleosides, nucleotides, and analogues;</td>\n",
       "      <td>323.051851</td>\n",
       "      <td>2</td>\n",
       "      <td>112.000</td>\n",
       "      <td>100.0</td>\n",
       "    </tr>\n",
       "    <tr>\n",
       "      <th>46666</th>\n",
       "      <td>FBZONXHGGPHHIY-UHFFFAOYSA-N</td>\n",
       "      <td>Positive</td>\n",
       "      <td>Chemical entities</td>\n",
       "      <td>Quinolines and derivatives</td>\n",
       "      <td>Organoheterocyclic compounds;</td>\n",
       "      <td>205.037508</td>\n",
       "      <td>0</td>\n",
       "      <td>205.971</td>\n",
       "      <td>100.0</td>\n",
       "    </tr>\n",
       "    <tr>\n",
       "      <th>111753</th>\n",
       "      <td>POZRVZJJTULAOH-LHZXLZLDSA-N</td>\n",
       "      <td>Positive</td>\n",
       "      <td>Organic compounds</td>\n",
       "      <td>Estrane steroids</td>\n",
       "      <td>Steroids and steroid derivatives;</td>\n",
       "      <td>337.204179</td>\n",
       "      <td>2</td>\n",
       "      <td>90.971</td>\n",
       "      <td>100.0</td>\n",
       "    </tr>\n",
       "    <tr>\n",
       "      <th>98210</th>\n",
       "      <td>XKMLYUALXHKNFT-UUOKFMHZSA-N</td>\n",
       "      <td>Positive</td>\n",
       "      <td>Chemical entities</td>\n",
       "      <td>Purine nucleotides</td>\n",
       "      <td>Nucleosides, nucleotides, and analogues;</td>\n",
       "      <td>522.990660</td>\n",
       "      <td>0</td>\n",
       "      <td>445.000</td>\n",
       "      <td>100.0</td>\n",
       "    </tr>\n",
       "  </tbody>\n",
       "</table>\n",
       "</div>"
      ],
      "text/plain": [
       "                              inchi ionization            kingdom  \\\n",
       "21568   AGPKZVBTJJNPAG-UHNVWZDZSA-N   Positive  Chemical entities   \n",
       "56738   IERHLVCPSMICTF-XVFCMESISA-N   Positive  Chemical entities   \n",
       "46666   FBZONXHGGPHHIY-UHFFFAOYSA-N   Positive  Chemical entities   \n",
       "111753  POZRVZJJTULAOH-LHZXLZLDSA-N   Positive  Organic compounds   \n",
       "98210   XKMLYUALXHKNFT-UUOKFMHZSA-N   Positive  Chemical entities   \n",
       "\n",
       "                               sub_class  \\\n",
       "21568   Carboxylic acids and derivatives   \n",
       "56738             Pyrimidine nucleotides   \n",
       "46666         Quinolines and derivatives   \n",
       "111753                  Estrane steroids   \n",
       "98210                 Purine nucleotides   \n",
       "\n",
       "                                           class  parentmass scan_id       mz  \\\n",
       "21568             Organic acids and derivatives;  131.094629       2   41.353   \n",
       "56738   Nucleosides, nucleotides, and analogues;  323.051851       2  112.000   \n",
       "46666              Organoheterocyclic compounds;  205.037508       0  205.971   \n",
       "111753         Steroids and steroid derivatives;  337.204179       2   90.971   \n",
       "98210   Nucleosides, nucleotides, and analogues;  522.990660       0  445.000   \n",
       "\n",
       "        intensity  \n",
       "21568       100.0  \n",
       "56738       100.0  \n",
       "46666       100.0  \n",
       "111753      100.0  \n",
       "98210       100.0  "
      ]
     },
     "execution_count": 65,
     "metadata": {},
     "output_type": "execute_result"
    }
   ],
   "source": [
    "pos.head()"
   ]
  },
  {
   "cell_type": "markdown",
   "metadata": {},
   "source": [
    "# Raw mz's"
   ]
  },
  {
   "cell_type": "code",
   "execution_count": 75,
   "metadata": {
    "collapsed": false
   },
   "outputs": [
    {
     "data": {
      "text/plain": [
       "(712, 34551)"
      ]
     },
     "execution_count": 75,
     "metadata": {},
     "output_type": "execute_result"
    }
   ],
   "source": [
    "widepos = pos.pivot(index='inchi', columns='mz', values='intensity')\n",
    "widepos = widepos.fillna(0.0)\n",
    "widepos.shape"
   ]
  },
  {
   "cell_type": "code",
   "execution_count": 76,
   "metadata": {
    "collapsed": false
   },
   "outputs": [
    {
     "data": {
      "text/plain": [
       "(712, 34555)"
      ]
     },
     "execution_count": 76,
     "metadata": {},
     "output_type": "execute_result"
    }
   ],
   "source": [
    "pd.merge(widepos, pos[['inchi', 'kingdom', 'sub_class', 'class']].drop_duplicates(),\n",
    "         left_index=True, right_on='inchi', how='left').shape"
   ]
  },
  {
   "cell_type": "markdown",
   "metadata": {},
   "source": [
    "# Round mz's to the nearest integer"
   ]
  },
  {
   "cell_type": "code",
   "execution_count": 64,
   "metadata": {
    "collapsed": false
   },
   "outputs": [
    {
     "name": "stdout",
     "output_type": "stream",
     "text": [
      "(70624, 9)\n",
      "(38740, 9)\n"
     ]
    }
   ],
   "source": [
    "posint = copy.deepcopy(pos)\n",
    "print(posint.shape)\n",
    "posint['mz'] = posint['mz'].astype(int)\n",
    "posint = remove_dup_mzs(posint)\n",
    "print(posint.shape)"
   ]
  },
  {
   "cell_type": "code",
   "execution_count": null,
   "metadata": {
    "collapsed": true
   },
   "outputs": [],
   "source": []
  }
 ],
 "metadata": {
  "anaconda-cloud": {},
  "kernelspec": {
   "display_name": "Python [default]",
   "language": "python",
   "name": "python2"
  },
  "language_info": {
   "codemirror_mode": {
    "name": "ipython",
    "version": 2
   },
   "file_extension": ".py",
   "mimetype": "text/x-python",
   "name": "python",
   "nbconvert_exporter": "python",
   "pygments_lexer": "ipython2",
   "version": "2.7.12"
  }
 },
 "nbformat": 4,
 "nbformat_minor": 2
}
