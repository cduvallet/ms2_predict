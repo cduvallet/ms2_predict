{
 "cells": [
  {
   "cell_type": "markdown",
   "metadata": {},
   "source": [
    "The goal of this notebook is to produce initial results for Milestone 4.\n",
    "\n",
    "My plan is to try to classify organic compounds from chemical entities, using binned mz's."
   ]
  },
  {
   "cell_type": "code",
   "execution_count": 1,
   "metadata": {
    "collapsed": true
   },
   "outputs": [],
   "source": [
    "# User-defined modules\n",
    "import os, sys\n",
    "src_dir = os.path.normpath('../util')\n",
    "sys.path.insert(0, src_dir)\n",
    "import util"
   ]
  },
  {
   "cell_type": "code",
   "execution_count": 2,
   "metadata": {
    "collapsed": false
   },
   "outputs": [
    {
     "name": "stderr",
     "output_type": "stream",
     "text": [
      "/Users/claire/anaconda/lib/python2.7/site-packages/sklearn/cross_validation.py:44: DeprecationWarning: This module was deprecated in version 0.18 in favor of the model_selection module into which all the refactored classes and functions are moved. Also note that the interface of the new CV iterators are different from that of this module. This module will be removed in 0.20.\n",
      "  \"This module will be removed in 0.20.\", DeprecationWarning)\n"
     ]
    }
   ],
   "source": [
    "import pandas as pd\n",
    "import numpy as np\n",
    "\n",
    "from scipy.stats import fisher_exact\n",
    "from sklearn.cross_validation import StratifiedKFold\n",
    "from sklearn.ensemble import RandomForestClassifier\n",
    "from sklearn.metrics import roc_curve, confusion_matrix, auc\n",
    "\n",
    "from IPython.display import display\n",
    "\n",
    "import matplotlib.pyplot as plt\n",
    "import seaborn as sns\n",
    "%matplotlib inline"
   ]
  },
  {
   "cell_type": "code",
   "execution_count": 3,
   "metadata": {
    "collapsed": true
   },
   "outputs": [],
   "source": [
    "# Read in the csv data\n",
    "fname = '../../data/clean/metabolites_and_spectra.csv'\n",
    "all_mtabs = util.unpackCSV(fname)"
   ]
  },
  {
   "cell_type": "code",
   "execution_count": 4,
   "metadata": {
    "collapsed": false
   },
   "outputs": [],
   "source": [
    "# Make tidy dataframe with [inchi, hmdb_id, all-taxonomy-levels, ms2_id, npeaks, ionization]\n",
    "taxa_cols = ['kingdom', 'super_class', 'sub_class', 'class', 'molecular_framework']\n",
    "empty_tax_dict = {i: '' for i in taxa_cols}\n",
    "dflst = []\n",
    "for m in all_mtabs:\n",
    "    mtab = all_mtabs[m]\n",
    "    n_ms2 = len(mtab.MS2)\n",
    "    if n_ms2 > 0:\n",
    "        hmdb_id = mtab.accession\n",
    "        \n",
    "        # Get taxonomy info, or if it doesn't have any make it empty\n",
    "        taxonomy = mtab.taxonomy_dict\n",
    "        if taxonomy is None:\n",
    "            taxonomy = empty_tax_dict\n",
    "\n",
    "        # Set up the molecule metadata\n",
    "        m_lst = [m, hmdb_id] + [taxonomy[t] for t in taxa_cols]\n",
    "        \n",
    "        # Get all of the MS2 peaks\n",
    "        for i in range(n_ms2):\n",
    "            peaks = mtab.MS2[i].peaks\n",
    "            \n",
    "            if peaks is not None:\n",
    "                npeaks = len(peaks)\n",
    "                # Assemble list of [mlcl_metadata, ms2_scan, peak1, int1]\n",
    "                dflst += [m_lst + [i, npeaks, p[0], p[1], mtab.MS2[i].ionization_mode] for p in peaks]\n",
    "        "
   ]
  },
  {
   "cell_type": "code",
   "execution_count": 5,
   "metadata": {
    "collapsed": false
   },
   "outputs": [
    {
     "data": {
      "text/html": [
       "<div>\n",
       "<table border=\"1\" class=\"dataframe\">\n",
       "  <thead>\n",
       "    <tr style=\"text-align: right;\">\n",
       "      <th></th>\n",
       "      <th>inchi</th>\n",
       "      <th>hmdb</th>\n",
       "      <th>kingdom</th>\n",
       "      <th>super_class</th>\n",
       "      <th>sub_class</th>\n",
       "      <th>cls</th>\n",
       "      <th>molecular_framework</th>\n",
       "      <th>ms2_scan</th>\n",
       "      <th>num_peaks</th>\n",
       "      <th>mz</th>\n",
       "      <th>intensity</th>\n",
       "      <th>ion_mode</th>\n",
       "    </tr>\n",
       "  </thead>\n",
       "  <tbody>\n",
       "    <tr>\n",
       "      <th>0</th>\n",
       "      <td>ZQSIJRDFPHDXIC-UHFFFAOYSA-N</td>\n",
       "      <td>HMDB0003312</td>\n",
       "      <td>Organic compounds</td>\n",
       "      <td>Phenylpropanoids and polyketides</td>\n",
       "      <td>Isoflav-2-enes</td>\n",
       "      <td>Isoflavonoids;</td>\n",
       "      <td>Aromatic heteropolycyclic compounds</td>\n",
       "      <td>0</td>\n",
       "      <td>1</td>\n",
       "      <td>254.889000</td>\n",
       "      <td>100.000000</td>\n",
       "      <td>Positive</td>\n",
       "    </tr>\n",
       "    <tr>\n",
       "      <th>1</th>\n",
       "      <td>ZQSIJRDFPHDXIC-UHFFFAOYSA-N</td>\n",
       "      <td>HMDB0003312</td>\n",
       "      <td>Organic compounds</td>\n",
       "      <td>Phenylpropanoids and polyketides</td>\n",
       "      <td>Isoflav-2-enes</td>\n",
       "      <td>Isoflavonoids;</td>\n",
       "      <td>Aromatic heteropolycyclic compounds</td>\n",
       "      <td>1</td>\n",
       "      <td>5</td>\n",
       "      <td>136.870000</td>\n",
       "      <td>34.965000</td>\n",
       "      <td>Positive</td>\n",
       "    </tr>\n",
       "    <tr>\n",
       "      <th>2</th>\n",
       "      <td>ZQSIJRDFPHDXIC-UHFFFAOYSA-N</td>\n",
       "      <td>HMDB0003312</td>\n",
       "      <td>Organic compounds</td>\n",
       "      <td>Phenylpropanoids and polyketides</td>\n",
       "      <td>Isoflav-2-enes</td>\n",
       "      <td>Isoflavonoids;</td>\n",
       "      <td>Aromatic heteropolycyclic compounds</td>\n",
       "      <td>1</td>\n",
       "      <td>5</td>\n",
       "      <td>180.910000</td>\n",
       "      <td>26.628000</td>\n",
       "      <td>Positive</td>\n",
       "    </tr>\n",
       "    <tr>\n",
       "      <th>3</th>\n",
       "      <td>ZQSIJRDFPHDXIC-UHFFFAOYSA-N</td>\n",
       "      <td>HMDB0003312</td>\n",
       "      <td>Organic compounds</td>\n",
       "      <td>Phenylpropanoids and polyketides</td>\n",
       "      <td>Isoflav-2-enes</td>\n",
       "      <td>Isoflavonoids;</td>\n",
       "      <td>Aromatic heteropolycyclic compounds</td>\n",
       "      <td>1</td>\n",
       "      <td>5</td>\n",
       "      <td>198.460000</td>\n",
       "      <td>8.300000</td>\n",
       "      <td>Positive</td>\n",
       "    </tr>\n",
       "    <tr>\n",
       "      <th>4</th>\n",
       "      <td>ZQSIJRDFPHDXIC-UHFFFAOYSA-N</td>\n",
       "      <td>HMDB0003312</td>\n",
       "      <td>Organic compounds</td>\n",
       "      <td>Phenylpropanoids and polyketides</td>\n",
       "      <td>Isoflav-2-enes</td>\n",
       "      <td>Isoflavonoids;</td>\n",
       "      <td>Aromatic heteropolycyclic compounds</td>\n",
       "      <td>1</td>\n",
       "      <td>5</td>\n",
       "      <td>198.870000</td>\n",
       "      <td>45.266000</td>\n",
       "      <td>Positive</td>\n",
       "    </tr>\n",
       "    <tr>\n",
       "      <th>5</th>\n",
       "      <td>ZQSIJRDFPHDXIC-UHFFFAOYSA-N</td>\n",
       "      <td>HMDB0003312</td>\n",
       "      <td>Organic compounds</td>\n",
       "      <td>Phenylpropanoids and polyketides</td>\n",
       "      <td>Isoflav-2-enes</td>\n",
       "      <td>Isoflavonoids;</td>\n",
       "      <td>Aromatic heteropolycyclic compounds</td>\n",
       "      <td>1</td>\n",
       "      <td>5</td>\n",
       "      <td>254.860000</td>\n",
       "      <td>100.000000</td>\n",
       "      <td>Positive</td>\n",
       "    </tr>\n",
       "    <tr>\n",
       "      <th>6</th>\n",
       "      <td>ZQSIJRDFPHDXIC-UHFFFAOYSA-N</td>\n",
       "      <td>HMDB0003312</td>\n",
       "      <td>Organic compounds</td>\n",
       "      <td>Phenylpropanoids and polyketides</td>\n",
       "      <td>Isoflav-2-enes</td>\n",
       "      <td>Isoflavonoids;</td>\n",
       "      <td>Aromatic heteropolycyclic compounds</td>\n",
       "      <td>2</td>\n",
       "      <td>4</td>\n",
       "      <td>65.060000</td>\n",
       "      <td>39.174000</td>\n",
       "      <td>Positive</td>\n",
       "    </tr>\n",
       "    <tr>\n",
       "      <th>7</th>\n",
       "      <td>ZQSIJRDFPHDXIC-UHFFFAOYSA-N</td>\n",
       "      <td>HMDB0003312</td>\n",
       "      <td>Organic compounds</td>\n",
       "      <td>Phenylpropanoids and polyketides</td>\n",
       "      <td>Isoflav-2-enes</td>\n",
       "      <td>Isoflavonoids;</td>\n",
       "      <td>Aromatic heteropolycyclic compounds</td>\n",
       "      <td>2</td>\n",
       "      <td>4</td>\n",
       "      <td>90.990000</td>\n",
       "      <td>100.000000</td>\n",
       "      <td>Positive</td>\n",
       "    </tr>\n",
       "    <tr>\n",
       "      <th>8</th>\n",
       "      <td>ZQSIJRDFPHDXIC-UHFFFAOYSA-N</td>\n",
       "      <td>HMDB0003312</td>\n",
       "      <td>Organic compounds</td>\n",
       "      <td>Phenylpropanoids and polyketides</td>\n",
       "      <td>Isoflav-2-enes</td>\n",
       "      <td>Isoflavonoids;</td>\n",
       "      <td>Aromatic heteropolycyclic compounds</td>\n",
       "      <td>2</td>\n",
       "      <td>4</td>\n",
       "      <td>136.860000</td>\n",
       "      <td>13.277000</td>\n",
       "      <td>Positive</td>\n",
       "    </tr>\n",
       "    <tr>\n",
       "      <th>9</th>\n",
       "      <td>ZQSIJRDFPHDXIC-UHFFFAOYSA-N</td>\n",
       "      <td>HMDB0003312</td>\n",
       "      <td>Organic compounds</td>\n",
       "      <td>Phenylpropanoids and polyketides</td>\n",
       "      <td>Isoflav-2-enes</td>\n",
       "      <td>Isoflavonoids;</td>\n",
       "      <td>Aromatic heteropolycyclic compounds</td>\n",
       "      <td>2</td>\n",
       "      <td>4</td>\n",
       "      <td>152.410000</td>\n",
       "      <td>8.384000</td>\n",
       "      <td>Positive</td>\n",
       "    </tr>\n",
       "    <tr>\n",
       "      <th>10</th>\n",
       "      <td>ZQSIJRDFPHDXIC-UHFFFAOYSA-N</td>\n",
       "      <td>HMDB0003312</td>\n",
       "      <td>Organic compounds</td>\n",
       "      <td>Phenylpropanoids and polyketides</td>\n",
       "      <td>Isoflav-2-enes</td>\n",
       "      <td>Isoflavonoids;</td>\n",
       "      <td>Aromatic heteropolycyclic compounds</td>\n",
       "      <td>3</td>\n",
       "      <td>194</td>\n",
       "      <td>36.799999</td>\n",
       "      <td>0.001001</td>\n",
       "      <td>Positive</td>\n",
       "    </tr>\n",
       "    <tr>\n",
       "      <th>11</th>\n",
       "      <td>ZQSIJRDFPHDXIC-UHFFFAOYSA-N</td>\n",
       "      <td>HMDB0003312</td>\n",
       "      <td>Organic compounds</td>\n",
       "      <td>Phenylpropanoids and polyketides</td>\n",
       "      <td>Isoflav-2-enes</td>\n",
       "      <td>Isoflavonoids;</td>\n",
       "      <td>Aromatic heteropolycyclic compounds</td>\n",
       "      <td>3</td>\n",
       "      <td>194</td>\n",
       "      <td>37.000000</td>\n",
       "      <td>0.001001</td>\n",
       "      <td>Positive</td>\n",
       "    </tr>\n",
       "    <tr>\n",
       "      <th>12</th>\n",
       "      <td>ZQSIJRDFPHDXIC-UHFFFAOYSA-N</td>\n",
       "      <td>HMDB0003312</td>\n",
       "      <td>Organic compounds</td>\n",
       "      <td>Phenylpropanoids and polyketides</td>\n",
       "      <td>Isoflav-2-enes</td>\n",
       "      <td>Isoflavonoids;</td>\n",
       "      <td>Aromatic heteropolycyclic compounds</td>\n",
       "      <td>3</td>\n",
       "      <td>194</td>\n",
       "      <td>37.900002</td>\n",
       "      <td>0.001001</td>\n",
       "      <td>Positive</td>\n",
       "    </tr>\n",
       "    <tr>\n",
       "      <th>13</th>\n",
       "      <td>ZQSIJRDFPHDXIC-UHFFFAOYSA-N</td>\n",
       "      <td>HMDB0003312</td>\n",
       "      <td>Organic compounds</td>\n",
       "      <td>Phenylpropanoids and polyketides</td>\n",
       "      <td>Isoflav-2-enes</td>\n",
       "      <td>Isoflavonoids;</td>\n",
       "      <td>Aromatic heteropolycyclic compounds</td>\n",
       "      <td>3</td>\n",
       "      <td>194</td>\n",
       "      <td>38.599998</td>\n",
       "      <td>0.001001</td>\n",
       "      <td>Positive</td>\n",
       "    </tr>\n",
       "    <tr>\n",
       "      <th>14</th>\n",
       "      <td>ZQSIJRDFPHDXIC-UHFFFAOYSA-N</td>\n",
       "      <td>HMDB0003312</td>\n",
       "      <td>Organic compounds</td>\n",
       "      <td>Phenylpropanoids and polyketides</td>\n",
       "      <td>Isoflav-2-enes</td>\n",
       "      <td>Isoflavonoids;</td>\n",
       "      <td>Aromatic heteropolycyclic compounds</td>\n",
       "      <td>3</td>\n",
       "      <td>194</td>\n",
       "      <td>38.976924</td>\n",
       "      <td>0.001001</td>\n",
       "      <td>Positive</td>\n",
       "    </tr>\n",
       "  </tbody>\n",
       "</table>\n",
       "</div>"
      ],
      "text/plain": [
       "                          inchi         hmdb            kingdom  \\\n",
       "0   ZQSIJRDFPHDXIC-UHFFFAOYSA-N  HMDB0003312  Organic compounds   \n",
       "1   ZQSIJRDFPHDXIC-UHFFFAOYSA-N  HMDB0003312  Organic compounds   \n",
       "2   ZQSIJRDFPHDXIC-UHFFFAOYSA-N  HMDB0003312  Organic compounds   \n",
       "3   ZQSIJRDFPHDXIC-UHFFFAOYSA-N  HMDB0003312  Organic compounds   \n",
       "4   ZQSIJRDFPHDXIC-UHFFFAOYSA-N  HMDB0003312  Organic compounds   \n",
       "5   ZQSIJRDFPHDXIC-UHFFFAOYSA-N  HMDB0003312  Organic compounds   \n",
       "6   ZQSIJRDFPHDXIC-UHFFFAOYSA-N  HMDB0003312  Organic compounds   \n",
       "7   ZQSIJRDFPHDXIC-UHFFFAOYSA-N  HMDB0003312  Organic compounds   \n",
       "8   ZQSIJRDFPHDXIC-UHFFFAOYSA-N  HMDB0003312  Organic compounds   \n",
       "9   ZQSIJRDFPHDXIC-UHFFFAOYSA-N  HMDB0003312  Organic compounds   \n",
       "10  ZQSIJRDFPHDXIC-UHFFFAOYSA-N  HMDB0003312  Organic compounds   \n",
       "11  ZQSIJRDFPHDXIC-UHFFFAOYSA-N  HMDB0003312  Organic compounds   \n",
       "12  ZQSIJRDFPHDXIC-UHFFFAOYSA-N  HMDB0003312  Organic compounds   \n",
       "13  ZQSIJRDFPHDXIC-UHFFFAOYSA-N  HMDB0003312  Organic compounds   \n",
       "14  ZQSIJRDFPHDXIC-UHFFFAOYSA-N  HMDB0003312  Organic compounds   \n",
       "\n",
       "                         super_class       sub_class             cls  \\\n",
       "0   Phenylpropanoids and polyketides  Isoflav-2-enes  Isoflavonoids;   \n",
       "1   Phenylpropanoids and polyketides  Isoflav-2-enes  Isoflavonoids;   \n",
       "2   Phenylpropanoids and polyketides  Isoflav-2-enes  Isoflavonoids;   \n",
       "3   Phenylpropanoids and polyketides  Isoflav-2-enes  Isoflavonoids;   \n",
       "4   Phenylpropanoids and polyketides  Isoflav-2-enes  Isoflavonoids;   \n",
       "5   Phenylpropanoids and polyketides  Isoflav-2-enes  Isoflavonoids;   \n",
       "6   Phenylpropanoids and polyketides  Isoflav-2-enes  Isoflavonoids;   \n",
       "7   Phenylpropanoids and polyketides  Isoflav-2-enes  Isoflavonoids;   \n",
       "8   Phenylpropanoids and polyketides  Isoflav-2-enes  Isoflavonoids;   \n",
       "9   Phenylpropanoids and polyketides  Isoflav-2-enes  Isoflavonoids;   \n",
       "10  Phenylpropanoids and polyketides  Isoflav-2-enes  Isoflavonoids;   \n",
       "11  Phenylpropanoids and polyketides  Isoflav-2-enes  Isoflavonoids;   \n",
       "12  Phenylpropanoids and polyketides  Isoflav-2-enes  Isoflavonoids;   \n",
       "13  Phenylpropanoids and polyketides  Isoflav-2-enes  Isoflavonoids;   \n",
       "14  Phenylpropanoids and polyketides  Isoflav-2-enes  Isoflavonoids;   \n",
       "\n",
       "                    molecular_framework  ms2_scan  num_peaks          mz  \\\n",
       "0   Aromatic heteropolycyclic compounds         0          1  254.889000   \n",
       "1   Aromatic heteropolycyclic compounds         1          5  136.870000   \n",
       "2   Aromatic heteropolycyclic compounds         1          5  180.910000   \n",
       "3   Aromatic heteropolycyclic compounds         1          5  198.460000   \n",
       "4   Aromatic heteropolycyclic compounds         1          5  198.870000   \n",
       "5   Aromatic heteropolycyclic compounds         1          5  254.860000   \n",
       "6   Aromatic heteropolycyclic compounds         2          4   65.060000   \n",
       "7   Aromatic heteropolycyclic compounds         2          4   90.990000   \n",
       "8   Aromatic heteropolycyclic compounds         2          4  136.860000   \n",
       "9   Aromatic heteropolycyclic compounds         2          4  152.410000   \n",
       "10  Aromatic heteropolycyclic compounds         3        194   36.799999   \n",
       "11  Aromatic heteropolycyclic compounds         3        194   37.000000   \n",
       "12  Aromatic heteropolycyclic compounds         3        194   37.900002   \n",
       "13  Aromatic heteropolycyclic compounds         3        194   38.599998   \n",
       "14  Aromatic heteropolycyclic compounds         3        194   38.976924   \n",
       "\n",
       "     intensity  ion_mode  \n",
       "0   100.000000  Positive  \n",
       "1    34.965000  Positive  \n",
       "2    26.628000  Positive  \n",
       "3     8.300000  Positive  \n",
       "4    45.266000  Positive  \n",
       "5   100.000000  Positive  \n",
       "6    39.174000  Positive  \n",
       "7   100.000000  Positive  \n",
       "8    13.277000  Positive  \n",
       "9     8.384000  Positive  \n",
       "10    0.001001  Positive  \n",
       "11    0.001001  Positive  \n",
       "12    0.001001  Positive  \n",
       "13    0.001001  Positive  \n",
       "14    0.001001  Positive  "
      ]
     },
     "execution_count": 5,
     "metadata": {},
     "output_type": "execute_result"
    }
   ],
   "source": [
    "cols = ['inchi', 'hmdb'] + taxa_cols + ['ms2_scan', 'num_peaks', 'mz', 'intensity', 'ion_mode']\n",
    "dfpeaks = pd.DataFrame(dflst, columns=cols)\n",
    "dfpeaks = dfpeaks.rename(columns={'class': 'cls'})\n",
    "dfpeaks.head(15)"
   ]
  },
  {
   "cell_type": "code",
   "execution_count": 7,
   "metadata": {
    "collapsed": false
   },
   "outputs": [
    {
     "data": {
      "text/plain": [
       "1980.289"
      ]
     },
     "execution_count": 7,
     "metadata": {},
     "output_type": "execute_result"
    }
   ],
   "source": [
    "dfpeaks['mz'].max()"
   ]
  },
  {
   "cell_type": "code",
   "execution_count": 8,
   "metadata": {
    "collapsed": false
   },
   "outputs": [
    {
     "data": {
      "text/plain": [
       "0.0114"
      ]
     },
     "execution_count": 8,
     "metadata": {},
     "output_type": "execute_result"
    }
   ],
   "source": [
    "dfpeaks['mz'].min()"
   ]
  },
  {
   "cell_type": "code",
   "execution_count": 9,
   "metadata": {
    "collapsed": false
   },
   "outputs": [
    {
     "data": {
      "text/plain": [
       "(729,)"
      ]
     },
     "execution_count": 9,
     "metadata": {},
     "output_type": "execute_result"
    }
   ],
   "source": [
    "# How many unique Positive-mode molecules do we have?\n",
    "dfpeaks.query('ion_mode == \"Positive\"')['inchi'].unique().shape"
   ]
  },
  {
   "cell_type": "markdown",
   "metadata": {},
   "source": [
    "# Binning mz's\n",
    "\n",
    "Many options:   \n",
    "\n",
    "- just round to the nearest unit   \n",
    "- bin based on distribution (i.e. make 1000 bins, where each bin has the same number of masses)   \n",
    "- bin based on informative-ness (like the barcoding paper, would need to be creative to determine \"informativeness\"...)\n",
    "\n",
    "Let's do the first one first: round each mz to the nearest unit.\n",
    "\n",
    "Next step: bin each unique mz so that each bin has the same number of unique mz's (not total number of fragments)"
   ]
  },
  {
   "cell_type": "code",
   "execution_count": 6,
   "metadata": {
    "collapsed": false
   },
   "outputs": [
    {
     "data": {
      "text/html": [
       "<div>\n",
       "<table border=\"1\" class=\"dataframe\">\n",
       "  <thead>\n",
       "    <tr style=\"text-align: right;\">\n",
       "      <th></th>\n",
       "      <th>inchi</th>\n",
       "      <th>hmdb</th>\n",
       "      <th>kingdom</th>\n",
       "      <th>super_class</th>\n",
       "      <th>sub_class</th>\n",
       "      <th>cls</th>\n",
       "      <th>molecular_framework</th>\n",
       "      <th>ms2_scan</th>\n",
       "      <th>num_peaks</th>\n",
       "      <th>mz</th>\n",
       "      <th>intensity</th>\n",
       "      <th>ion_mode</th>\n",
       "      <th>rounded_mz</th>\n",
       "    </tr>\n",
       "  </thead>\n",
       "  <tbody>\n",
       "    <tr>\n",
       "      <th>0</th>\n",
       "      <td>ZQSIJRDFPHDXIC-UHFFFAOYSA-N</td>\n",
       "      <td>HMDB0003312</td>\n",
       "      <td>Organic compounds</td>\n",
       "      <td>Phenylpropanoids and polyketides</td>\n",
       "      <td>Isoflav-2-enes</td>\n",
       "      <td>Isoflavonoids;</td>\n",
       "      <td>Aromatic heteropolycyclic compounds</td>\n",
       "      <td>0</td>\n",
       "      <td>1</td>\n",
       "      <td>254.889</td>\n",
       "      <td>100.000</td>\n",
       "      <td>Positive</td>\n",
       "      <td>254</td>\n",
       "    </tr>\n",
       "    <tr>\n",
       "      <th>1</th>\n",
       "      <td>ZQSIJRDFPHDXIC-UHFFFAOYSA-N</td>\n",
       "      <td>HMDB0003312</td>\n",
       "      <td>Organic compounds</td>\n",
       "      <td>Phenylpropanoids and polyketides</td>\n",
       "      <td>Isoflav-2-enes</td>\n",
       "      <td>Isoflavonoids;</td>\n",
       "      <td>Aromatic heteropolycyclic compounds</td>\n",
       "      <td>1</td>\n",
       "      <td>5</td>\n",
       "      <td>136.870</td>\n",
       "      <td>34.965</td>\n",
       "      <td>Positive</td>\n",
       "      <td>136</td>\n",
       "    </tr>\n",
       "    <tr>\n",
       "      <th>2</th>\n",
       "      <td>ZQSIJRDFPHDXIC-UHFFFAOYSA-N</td>\n",
       "      <td>HMDB0003312</td>\n",
       "      <td>Organic compounds</td>\n",
       "      <td>Phenylpropanoids and polyketides</td>\n",
       "      <td>Isoflav-2-enes</td>\n",
       "      <td>Isoflavonoids;</td>\n",
       "      <td>Aromatic heteropolycyclic compounds</td>\n",
       "      <td>1</td>\n",
       "      <td>5</td>\n",
       "      <td>180.910</td>\n",
       "      <td>26.628</td>\n",
       "      <td>Positive</td>\n",
       "      <td>180</td>\n",
       "    </tr>\n",
       "    <tr>\n",
       "      <th>3</th>\n",
       "      <td>ZQSIJRDFPHDXIC-UHFFFAOYSA-N</td>\n",
       "      <td>HMDB0003312</td>\n",
       "      <td>Organic compounds</td>\n",
       "      <td>Phenylpropanoids and polyketides</td>\n",
       "      <td>Isoflav-2-enes</td>\n",
       "      <td>Isoflavonoids;</td>\n",
       "      <td>Aromatic heteropolycyclic compounds</td>\n",
       "      <td>1</td>\n",
       "      <td>5</td>\n",
       "      <td>198.460</td>\n",
       "      <td>8.300</td>\n",
       "      <td>Positive</td>\n",
       "      <td>198</td>\n",
       "    </tr>\n",
       "    <tr>\n",
       "      <th>4</th>\n",
       "      <td>ZQSIJRDFPHDXIC-UHFFFAOYSA-N</td>\n",
       "      <td>HMDB0003312</td>\n",
       "      <td>Organic compounds</td>\n",
       "      <td>Phenylpropanoids and polyketides</td>\n",
       "      <td>Isoflav-2-enes</td>\n",
       "      <td>Isoflavonoids;</td>\n",
       "      <td>Aromatic heteropolycyclic compounds</td>\n",
       "      <td>1</td>\n",
       "      <td>5</td>\n",
       "      <td>198.870</td>\n",
       "      <td>45.266</td>\n",
       "      <td>Positive</td>\n",
       "      <td>198</td>\n",
       "    </tr>\n",
       "  </tbody>\n",
       "</table>\n",
       "</div>"
      ],
      "text/plain": [
       "                         inchi         hmdb            kingdom  \\\n",
       "0  ZQSIJRDFPHDXIC-UHFFFAOYSA-N  HMDB0003312  Organic compounds   \n",
       "1  ZQSIJRDFPHDXIC-UHFFFAOYSA-N  HMDB0003312  Organic compounds   \n",
       "2  ZQSIJRDFPHDXIC-UHFFFAOYSA-N  HMDB0003312  Organic compounds   \n",
       "3  ZQSIJRDFPHDXIC-UHFFFAOYSA-N  HMDB0003312  Organic compounds   \n",
       "4  ZQSIJRDFPHDXIC-UHFFFAOYSA-N  HMDB0003312  Organic compounds   \n",
       "\n",
       "                        super_class       sub_class             cls  \\\n",
       "0  Phenylpropanoids and polyketides  Isoflav-2-enes  Isoflavonoids;   \n",
       "1  Phenylpropanoids and polyketides  Isoflav-2-enes  Isoflavonoids;   \n",
       "2  Phenylpropanoids and polyketides  Isoflav-2-enes  Isoflavonoids;   \n",
       "3  Phenylpropanoids and polyketides  Isoflav-2-enes  Isoflavonoids;   \n",
       "4  Phenylpropanoids and polyketides  Isoflav-2-enes  Isoflavonoids;   \n",
       "\n",
       "                   molecular_framework  ms2_scan  num_peaks       mz  \\\n",
       "0  Aromatic heteropolycyclic compounds         0          1  254.889   \n",
       "1  Aromatic heteropolycyclic compounds         1          5  136.870   \n",
       "2  Aromatic heteropolycyclic compounds         1          5  180.910   \n",
       "3  Aromatic heteropolycyclic compounds         1          5  198.460   \n",
       "4  Aromatic heteropolycyclic compounds         1          5  198.870   \n",
       "\n",
       "   intensity  ion_mode  rounded_mz  \n",
       "0    100.000  Positive         254  \n",
       "1     34.965  Positive         136  \n",
       "2     26.628  Positive         180  \n",
       "3      8.300  Positive         198  \n",
       "4     45.266  Positive         198  "
      ]
     },
     "execution_count": 6,
     "metadata": {},
     "output_type": "execute_result"
    }
   ],
   "source": [
    "# Just round down by converting float to int\n",
    "dfpeaks['rounded_mz'] = dfpeaks['mz'].astype(int)\n",
    "dfpeaks.head()"
   ]
  },
  {
   "cell_type": "code",
   "execution_count": 7,
   "metadata": {
    "collapsed": false
   },
   "outputs": [],
   "source": [
    "# Need to drop inchi-rounded_mz duplicates for the pivot.\n",
    "# Note that here, I am merging all MS2's from the same inchi molecule.\n",
    "binarypeaks = dfpeaks\\\n",
    "    [['inchi', 'rounded_mz']].drop_duplicates()\\\n",
    "    .pivot(index='inchi', columns='rounded_mz', values='rounded_mz')\\\n",
    "    .notnull()\\\n",
    "    .astype(int)"
   ]
  },
  {
   "cell_type": "code",
   "execution_count": 8,
   "metadata": {
    "collapsed": false
   },
   "outputs": [
    {
     "data": {
      "text/html": [
       "<div>\n",
       "<table border=\"1\" class=\"dataframe\">\n",
       "  <thead>\n",
       "    <tr style=\"text-align: right;\">\n",
       "      <th>rounded_mz</th>\n",
       "      <th>0</th>\n",
       "      <th>1</th>\n",
       "      <th>3</th>\n",
       "      <th>4</th>\n",
       "      <th>6</th>\n",
       "      <th>7</th>\n",
       "      <th>8</th>\n",
       "      <th>9</th>\n",
       "      <th>10</th>\n",
       "      <th>11</th>\n",
       "      <th>...</th>\n",
       "      <th>1877</th>\n",
       "      <th>1882</th>\n",
       "      <th>1885</th>\n",
       "      <th>1890</th>\n",
       "      <th>1904</th>\n",
       "      <th>1905</th>\n",
       "      <th>1933</th>\n",
       "      <th>1948</th>\n",
       "      <th>1961</th>\n",
       "      <th>1980</th>\n",
       "    </tr>\n",
       "    <tr>\n",
       "      <th>inchi</th>\n",
       "      <th></th>\n",
       "      <th></th>\n",
       "      <th></th>\n",
       "      <th></th>\n",
       "      <th></th>\n",
       "      <th></th>\n",
       "      <th></th>\n",
       "      <th></th>\n",
       "      <th></th>\n",
       "      <th></th>\n",
       "      <th></th>\n",
       "      <th></th>\n",
       "      <th></th>\n",
       "      <th></th>\n",
       "      <th></th>\n",
       "      <th></th>\n",
       "      <th></th>\n",
       "      <th></th>\n",
       "      <th></th>\n",
       "      <th></th>\n",
       "      <th></th>\n",
       "    </tr>\n",
       "  </thead>\n",
       "  <tbody>\n",
       "    <tr>\n",
       "      <th>ACFIXJIJDZMPPO-NCHANQSKSA-N</th>\n",
       "      <td>0</td>\n",
       "      <td>0</td>\n",
       "      <td>0</td>\n",
       "      <td>0</td>\n",
       "      <td>0</td>\n",
       "      <td>0</td>\n",
       "      <td>0</td>\n",
       "      <td>0</td>\n",
       "      <td>0</td>\n",
       "      <td>0</td>\n",
       "      <td>...</td>\n",
       "      <td>0</td>\n",
       "      <td>0</td>\n",
       "      <td>0</td>\n",
       "      <td>0</td>\n",
       "      <td>0</td>\n",
       "      <td>0</td>\n",
       "      <td>0</td>\n",
       "      <td>0</td>\n",
       "      <td>0</td>\n",
       "      <td>0</td>\n",
       "    </tr>\n",
       "    <tr>\n",
       "      <th>ACWBBAGYTKWBCD-UHFFFAOYSA-N</th>\n",
       "      <td>0</td>\n",
       "      <td>0</td>\n",
       "      <td>0</td>\n",
       "      <td>0</td>\n",
       "      <td>0</td>\n",
       "      <td>0</td>\n",
       "      <td>0</td>\n",
       "      <td>0</td>\n",
       "      <td>0</td>\n",
       "      <td>0</td>\n",
       "      <td>...</td>\n",
       "      <td>0</td>\n",
       "      <td>0</td>\n",
       "      <td>0</td>\n",
       "      <td>0</td>\n",
       "      <td>0</td>\n",
       "      <td>0</td>\n",
       "      <td>0</td>\n",
       "      <td>0</td>\n",
       "      <td>0</td>\n",
       "      <td>0</td>\n",
       "    </tr>\n",
       "    <tr>\n",
       "      <th>AEMFNILZOJDQLW-QAGGRKNESA-N</th>\n",
       "      <td>0</td>\n",
       "      <td>0</td>\n",
       "      <td>0</td>\n",
       "      <td>0</td>\n",
       "      <td>0</td>\n",
       "      <td>0</td>\n",
       "      <td>0</td>\n",
       "      <td>0</td>\n",
       "      <td>0</td>\n",
       "      <td>0</td>\n",
       "      <td>...</td>\n",
       "      <td>0</td>\n",
       "      <td>0</td>\n",
       "      <td>0</td>\n",
       "      <td>0</td>\n",
       "      <td>0</td>\n",
       "      <td>0</td>\n",
       "      <td>0</td>\n",
       "      <td>0</td>\n",
       "      <td>0</td>\n",
       "      <td>0</td>\n",
       "    </tr>\n",
       "    <tr>\n",
       "      <th>AEMOLEFTQBMNLQ-DTEWXJGMSA-N</th>\n",
       "      <td>0</td>\n",
       "      <td>0</td>\n",
       "      <td>0</td>\n",
       "      <td>0</td>\n",
       "      <td>0</td>\n",
       "      <td>0</td>\n",
       "      <td>0</td>\n",
       "      <td>0</td>\n",
       "      <td>0</td>\n",
       "      <td>0</td>\n",
       "      <td>...</td>\n",
       "      <td>0</td>\n",
       "      <td>0</td>\n",
       "      <td>0</td>\n",
       "      <td>0</td>\n",
       "      <td>0</td>\n",
       "      <td>0</td>\n",
       "      <td>0</td>\n",
       "      <td>0</td>\n",
       "      <td>0</td>\n",
       "      <td>0</td>\n",
       "    </tr>\n",
       "    <tr>\n",
       "      <th>AEMOLEFTQBMNLQ-WAXACMCWSA-N</th>\n",
       "      <td>0</td>\n",
       "      <td>0</td>\n",
       "      <td>0</td>\n",
       "      <td>0</td>\n",
       "      <td>0</td>\n",
       "      <td>0</td>\n",
       "      <td>0</td>\n",
       "      <td>0</td>\n",
       "      <td>0</td>\n",
       "      <td>0</td>\n",
       "      <td>...</td>\n",
       "      <td>0</td>\n",
       "      <td>0</td>\n",
       "      <td>0</td>\n",
       "      <td>0</td>\n",
       "      <td>0</td>\n",
       "      <td>0</td>\n",
       "      <td>0</td>\n",
       "      <td>0</td>\n",
       "      <td>0</td>\n",
       "      <td>0</td>\n",
       "    </tr>\n",
       "  </tbody>\n",
       "</table>\n",
       "<p>5 rows × 1531 columns</p>\n",
       "</div>"
      ],
      "text/plain": [
       "rounded_mz                   0     1     3     4     6     7     8     9     \\\n",
       "inchi                                                                         \n",
       "ACFIXJIJDZMPPO-NCHANQSKSA-N     0     0     0     0     0     0     0     0   \n",
       "ACWBBAGYTKWBCD-UHFFFAOYSA-N     0     0     0     0     0     0     0     0   \n",
       "AEMFNILZOJDQLW-QAGGRKNESA-N     0     0     0     0     0     0     0     0   \n",
       "AEMOLEFTQBMNLQ-DTEWXJGMSA-N     0     0     0     0     0     0     0     0   \n",
       "AEMOLEFTQBMNLQ-WAXACMCWSA-N     0     0     0     0     0     0     0     0   \n",
       "\n",
       "rounded_mz                   10    11    ...   1877  1882  1885  1890  1904  \\\n",
       "inchi                                    ...                                  \n",
       "ACFIXJIJDZMPPO-NCHANQSKSA-N     0     0  ...      0     0     0     0     0   \n",
       "ACWBBAGYTKWBCD-UHFFFAOYSA-N     0     0  ...      0     0     0     0     0   \n",
       "AEMFNILZOJDQLW-QAGGRKNESA-N     0     0  ...      0     0     0     0     0   \n",
       "AEMOLEFTQBMNLQ-DTEWXJGMSA-N     0     0  ...      0     0     0     0     0   \n",
       "AEMOLEFTQBMNLQ-WAXACMCWSA-N     0     0  ...      0     0     0     0     0   \n",
       "\n",
       "rounded_mz                   1905  1933  1948  1961  1980  \n",
       "inchi                                                      \n",
       "ACFIXJIJDZMPPO-NCHANQSKSA-N     0     0     0     0     0  \n",
       "ACWBBAGYTKWBCD-UHFFFAOYSA-N     0     0     0     0     0  \n",
       "AEMFNILZOJDQLW-QAGGRKNESA-N     0     0     0     0     0  \n",
       "AEMOLEFTQBMNLQ-DTEWXJGMSA-N     0     0     0     0     0  \n",
       "AEMOLEFTQBMNLQ-WAXACMCWSA-N     0     0     0     0     0  \n",
       "\n",
       "[5 rows x 1531 columns]"
      ]
     },
     "execution_count": 8,
     "metadata": {},
     "output_type": "execute_result"
    }
   ],
   "source": [
    "binarypeaks.head()"
   ]
  },
  {
   "cell_type": "markdown",
   "metadata": {},
   "source": [
    "# Classify kingdom"
   ]
  },
  {
   "cell_type": "code",
   "execution_count": 9,
   "metadata": {
    "collapsed": false
   },
   "outputs": [],
   "source": [
    "def make_XY(binarypeaks, dfpeaks):\n",
    "    \"\"\"\n",
    "    Make the X and Y arrays for classification.\n",
    "    \n",
    "    Y has kingdom-level labels: \"Chemical entities\" are 0 and 1 otherwise,\n",
    "    in same order as in X.\n",
    "    \n",
    "    binarypeaks has inchi keys in index\n",
    "    dfpeaks has ['inchi', 'kingdom'] columns\n",
    "    \"\"\"\n",
    "    XandY = pd.merge(binarypeaks, dfpeaks[['inchi', 'kingdom']].drop_duplicates(),\n",
    "                     left_index=True, right_on='inchi',\n",
    "                     how='left')\n",
    "\n",
    "    X = XandY.drop(['inchi', 'kingdom'], axis=1)\n",
    "\n",
    "    Y = XandY['kingdom'].apply(lambda x: 1 if x == \"Chemical entities\" else 0)\n",
    "\n",
    "    return X.values, Y.values"
   ]
  },
  {
   "cell_type": "code",
   "execution_count": 10,
   "metadata": {
    "collapsed": false
   },
   "outputs": [],
   "source": [
    "# Built a ten-fold cross validated classifier\n",
    "\n",
    "def cv_train(rf, X, Y, num_cv, random_state=12345):\n",
    "    \"\"\"\n",
    "    Perform cross validated training and testing and return the \n",
    "    ROC curves and predictions for each fold's classifier.\n",
    "\n",
    "    Parameters\n",
    "    ----------\n",
    "    rf : any sklearn classifier object\n",
    "    X : array-like or sparse matrix, shape = [n_samples, n_features]\n",
    "        The input samples to be split into train and test folds and\n",
    "        cross-validated.\n",
    "    Y : list or array\n",
    "        array-like, shape = [n_samples] or [n_samples, n_outputs]\n",
    "        The target values (class labels in classification).\n",
    "    num_cv : int (default: 5)\n",
    "        number of cross-validation folds\n",
    "    random_state : int (default 12345)\n",
    "        random state seed for StratifiedKFold\n",
    "    \"\"\"\n",
    "    cv = StratifiedKFold(Y, num_cv, shuffle=True, random_state=random_state)\n",
    "\n",
    "    tpr_lst = []\n",
    "    mean_fpr = np.linspace(0, 1, 100)\n",
    "    conf_mat = np.asarray([[0,0],[0,0]])\n",
    "    y_probs = np.empty_like(Y)\n",
    "    y_predictions = np.empty_like(Y)\n",
    "\n",
    "    n = 0\n",
    "    for train_index, test_index in cv:\n",
    "        print(n)\n",
    "        X_train, X_test = X[train_index], X[test_index]\n",
    "        Y_train, Y_test = Y[train_index], Y[test_index]\n",
    "\n",
    "        probs = rf.fit(X_train, Y_train).predict_proba(X_test)[:,1]\n",
    "        preds = rf.predict(X_test)\n",
    "\n",
    "        # Store probability and predicted values for X_test\n",
    "        y_probs[test_index] = probs\n",
    "        y_predictions[test_index] = preds\n",
    "\n",
    "        # Compute ROC curve\n",
    "        fpr, tpr, thresholds = roc_curve(Y_test, probs)\n",
    "        tpr_lst.append(np.interp(mean_fpr, fpr, tpr))\n",
    "        tpr_lst[-1][0] = 0.0\n",
    "\n",
    "        # Compute confusion matrix\n",
    "        conf_mat += confusion_matrix(Y_test, preds, labels=[0,1])\n",
    "\n",
    "        n += 1\n",
    "    return dict(zip(['mean_fpr', 'tpr', 'conf_mat', 'y_probs', 'y_preds'],\n",
    "                    [mean_fpr, tpr_lst, conf_mat, y_probs, y_predictions]))"
   ]
  },
  {
   "cell_type": "code",
   "execution_count": 11,
   "metadata": {
    "collapsed": false
   },
   "outputs": [
    {
     "data": {
      "text/plain": [
       "kingdom\n",
       "Chemical entities    548\n",
       "Organic compounds    316\n",
       "dtype: int64"
      ]
     },
     "execution_count": 11,
     "metadata": {},
     "output_type": "execute_result"
    }
   ],
   "source": [
    "# Check how many of each class we have (kingdom-level)\n",
    "XandY = pd.merge(binarypeaks, dfpeaks[['inchi', 'kingdom']].drop_duplicates(),\n",
    "                 left_index=True, right_on='inchi',\n",
    "                 how='left')\n",
    "XandY.groupby('kingdom').size()"
   ]
  },
  {
   "cell_type": "code",
   "execution_count": 23,
   "metadata": {
    "collapsed": true
   },
   "outputs": [],
   "source": [
    "# Prep for classification\n",
    "X, Y = make_XY(binarypeaks, dfpeaks)\n",
    "rf = RandomForestClassifier(n_estimators=1000)\n",
    "num_cv = 10"
   ]
  },
  {
   "cell_type": "code",
   "execution_count": 28,
   "metadata": {
    "collapsed": false
   },
   "outputs": [
    {
     "data": {
      "text/plain": [
       "(864, 1531)"
      ]
     },
     "execution_count": 28,
     "metadata": {},
     "output_type": "execute_result"
    }
   ],
   "source": [
    "X.shape"
   ]
  },
  {
   "cell_type": "code",
   "execution_count": 24,
   "metadata": {
    "collapsed": false
   },
   "outputs": [
    {
     "name": "stdout",
     "output_type": "stream",
     "text": [
      "0\n",
      "1\n",
      "2\n",
      "3\n",
      "4\n",
      "5\n",
      "6\n",
      "7\n",
      "8\n",
      "9\n"
     ]
    }
   ],
   "source": [
    "# Train classifier\n",
    "d = cv_train(rf, X, Y, num_cv)\n",
    "\n",
    "tpr_lst = d['tpr']\n",
    "mean_fpr = d['mean_fpr']\n",
    "conf_mat = d['conf_mat']"
   ]
  },
  {
   "cell_type": "code",
   "execution_count": 25,
   "metadata": {
    "collapsed": false
   },
   "outputs": [
    {
     "name": "stdout",
     "output_type": "stream",
     "text": [
      "0.702207515415\n"
     ]
    }
   ],
   "source": [
    "# Extract some summary metrics\n",
    "mean_tpr = np.mean(tpr_lst, axis=0)\n",
    "roc_auc = auc(mean_fpr, mean_tpr)\n",
    "print(roc_auc)\n",
    "\n",
    "# Get fisher p value, sensitivity/specificity, positive/negative pred value\n",
    "_, fisher_p = fisher_exact(conf_mat)\n",
    "# conf_mat: rows are the true labels, columns are the predicted labels\n",
    "conf_mat = pd.DataFrame(conf_mat)\n",
    "conf_mat.columns = ['pred 0', 'pred 1']\n",
    "conf_mat.index = ['true 0', 'true 1']"
   ]
  },
  {
   "cell_type": "code",
   "execution_count": 26,
   "metadata": {
    "collapsed": false
   },
   "outputs": [
    {
     "data": {
      "text/html": [
       "<div>\n",
       "<table border=\"1\" class=\"dataframe\">\n",
       "  <thead>\n",
       "    <tr style=\"text-align: right;\">\n",
       "      <th></th>\n",
       "      <th>pred 0</th>\n",
       "      <th>pred 1</th>\n",
       "    </tr>\n",
       "  </thead>\n",
       "  <tbody>\n",
       "    <tr>\n",
       "      <th>true 0</th>\n",
       "      <td>124</td>\n",
       "      <td>192</td>\n",
       "    </tr>\n",
       "    <tr>\n",
       "      <th>true 1</th>\n",
       "      <td>74</td>\n",
       "      <td>474</td>\n",
       "    </tr>\n",
       "  </tbody>\n",
       "</table>\n",
       "</div>"
      ],
      "text/plain": [
       "        pred 0  pred 1\n",
       "true 0     124     192\n",
       "true 1      74     474"
      ]
     },
     "execution_count": 26,
     "metadata": {},
     "output_type": "execute_result"
    }
   ],
   "source": [
    "# Confusion matrix shows classifier predictions on test set in all folds\n",
    "conf_mat"
   ]
  },
  {
   "cell_type": "code",
   "execution_count": 27,
   "metadata": {
    "collapsed": false
   },
   "outputs": [
    {
     "data": {
      "image/png": "[encoded data removed]",
      "text/plain": [
       "<matplotlib.figure.Figure at 0x131f19050>"
      ]
     },
     "metadata": {},
     "output_type": "display_data"
    }
   ],
   "source": [
    "# Plot ROC curve\n",
    "plt.figure(figsize=(5,4))\n",
    "plt.plot(mean_fpr, mean_tpr)\n",
    "std_tpr = np.std(tpr_lst, axis=0)\n",
    "tprs_upper = np.minimum(mean_tpr + std_tpr, 1)\n",
    "tprs_lower = np.maximum(mean_tpr - std_tpr, 0)\n",
    "plt.fill_between(mean_fpr, tprs_lower, tprs_upper, alpha=0.2)\n",
    "plt.xlabel('False positive rate')\n",
    "plt.ylabel('True positive rate')\n",
    "plt.title('Kingdom-level classification, all mz bins (floor(mz))')\n",
    "plt.plot([0, 1], [0, 1])\n",
    "plt.tight_layout()"
   ]
  },
  {
   "cell_type": "markdown",
   "metadata": {},
   "source": [
    "# Feature selection\n",
    "\n",
    "Limit features to mz bins which were present in at least 50 molecules"
   ]
  },
  {
   "cell_type": "code",
   "execution_count": 18,
   "metadata": {
    "collapsed": false
   },
   "outputs": [
    {
     "name": "stdout",
     "output_type": "stream",
     "text": [
      "278 mz bins are present in more than 50 molecules\n"
     ]
    }
   ],
   "source": [
    "n_mlcls = 50\n",
    "print('{} mz bins are present in more than {} molecules'.format((binarypeaks.sum() > n_mlcls).sum(), n_mlcls))"
   ]
  },
  {
   "cell_type": "code",
   "execution_count": 19,
   "metadata": {
    "collapsed": false
   },
   "outputs": [],
   "source": [
    "binarypeaks_50 = binarypeaks.loc[:, binarypeaks.sum() > n_mlcls]"
   ]
  },
  {
   "cell_type": "code",
   "execution_count": 20,
   "metadata": {
    "collapsed": true
   },
   "outputs": [],
   "source": [
    "X_50, Y = make_XY(binarypeaks_50, dfpeaks)\n",
    "rf = RandomForestClassifier(n_estimators=1000)\n",
    "num_cv = 10"
   ]
  },
  {
   "cell_type": "code",
   "execution_count": 29,
   "metadata": {
    "collapsed": false
   },
   "outputs": [
    {
     "data": {
      "text/plain": [
       "(864, 278)"
      ]
     },
     "execution_count": 29,
     "metadata": {},
     "output_type": "execute_result"
    }
   ],
   "source": [
    "X_50.shape"
   ]
  },
  {
   "cell_type": "code",
   "execution_count": 21,
   "metadata": {
    "collapsed": false
   },
   "outputs": [
    {
     "name": "stdout",
     "output_type": "stream",
     "text": [
      "0\n",
      "1\n",
      "2\n",
      "3\n",
      "4\n",
      "5\n",
      "6\n",
      "7\n",
      "8\n",
      "9\n"
     ]
    }
   ],
   "source": [
    "# Train classifier\n",
    "d = cv_train(rf, X_50, Y, num_cv)\n",
    "\n",
    "tpr_lst = d['tpr']\n",
    "mean_fpr = d['mean_fpr']\n",
    "conf_mat = d['conf_mat']"
   ]
  },
  {
   "cell_type": "code",
   "execution_count": 22,
   "metadata": {
    "collapsed": false
   },
   "outputs": [
    {
     "name": "stdout",
     "output_type": "stream",
     "text": [
      "0.693759404747\n"
     ]
    }
   ],
   "source": [
    "# Extract some summary metrics\n",
    "mean_tpr = np.mean(tpr_lst, axis=0)\n",
    "roc_auc = auc(mean_fpr, mean_tpr)\n",
    "print(roc_auc)\n",
    "\n",
    "# Get fisher p value, sensitivity/specificity, positive/negative pred value\n",
    "_, fisher_p = fisher_exact(conf_mat)\n",
    "# conf_mat: rows are the true labels, columns are the predicted labels\n",
    "conf_mat = pd.DataFrame(conf_mat)\n",
    "conf_mat.columns = ['pred 0', 'pred 1']\n",
    "conf_mat.index = ['true 0', 'true 1']"
   ]
  },
  {
   "cell_type": "code",
   "execution_count": 32,
   "metadata": {
    "collapsed": false
   },
   "outputs": [
    {
     "data": {
      "text/html": [
       "<div>\n",
       "<table border=\"1\" class=\"dataframe\">\n",
       "  <thead>\n",
       "    <tr style=\"text-align: right;\">\n",
       "      <th></th>\n",
       "      <th>pred 0</th>\n",
       "      <th>pred 1</th>\n",
       "    </tr>\n",
       "  </thead>\n",
       "  <tbody>\n",
       "    <tr>\n",
       "      <th>true 0</th>\n",
       "      <td>137</td>\n",
       "      <td>179</td>\n",
       "    </tr>\n",
       "    <tr>\n",
       "      <th>true 1</th>\n",
       "      <td>74</td>\n",
       "      <td>474</td>\n",
       "    </tr>\n",
       "  </tbody>\n",
       "</table>\n",
       "</div>"
      ],
      "text/plain": [
       "        pred 0  pred 1\n",
       "true 0     137     179\n",
       "true 1      74     474"
      ]
     },
     "execution_count": 32,
     "metadata": {},
     "output_type": "execute_result"
    }
   ],
   "source": [
    "# Confusion matrix shows classifier predictions on test set in all folds\n",
    "conf_mat"
   ]
  },
  {
   "cell_type": "code",
   "execution_count": 33,
   "metadata": {
    "collapsed": false
   },
   "outputs": [
    {
     "data": {
      "image/png": "[encoded data removed]",
      "text/plain": [
       "<matplotlib.figure.Figure at 0x135b15ad0>"
      ]
     },
     "metadata": {},
     "output_type": "display_data"
    }
   ],
   "source": [
    "# Plot ROC curve\n",
    "plt.figure(figsize=(5,4))\n",
    "plt.plot(mean_fpr, mean_tpr)\n",
    "std_tpr = np.std(tpr_lst, axis=0)\n",
    "tprs_upper = np.minimum(mean_tpr + std_tpr, 1)\n",
    "tprs_lower = np.maximum(mean_tpr - std_tpr, 0)\n",
    "plt.fill_between(mean_fpr, tprs_lower, tprs_upper, alpha=0.2)\n",
    "plt.xlabel('False positive rate')\n",
    "plt.ylabel('True positive rate')\n",
    "plt.title('Kingdom-level classification, mz bins with at least 50 molecules')\n",
    "plt.plot([0, 1], [0, 1])\n",
    "plt.tight_layout()"
   ]
  },
  {
   "cell_type": "markdown",
   "metadata": {},
   "source": [
    "Hm, looks like our classifier is fairly good at getting class 1 (Chemical entities, N = 548) but performs basically randomly on class 0 (Organic compounds, N = 316). This might be due to class imbalance - need to look into different parameters we can change to adjust for this."
   ]
  },
  {
   "cell_type": "markdown",
   "metadata": {},
   "source": [
    "## Try balancing classes"
   ]
  },
  {
   "cell_type": "code",
   "execution_count": 36,
   "metadata": {
    "collapsed": false
   },
   "outputs": [
    {
     "name": "stdout",
     "output_type": "stream",
     "text": [
      "0\n",
      "1\n",
      "2\n",
      "3\n",
      "4\n",
      "5\n",
      "6\n",
      "7\n",
      "8\n",
      "9\n"
     ]
    }
   ],
   "source": [
    "rf = RandomForestClassifier(n_estimators=1000, class_weight=\"balanced_subsample\")\n",
    "num_cv = 10\n",
    "\n",
    "d50_bal = cv_train(rf, X_50, Y, num_cv)"
   ]
  },
  {
   "cell_type": "code",
   "execution_count": 37,
   "metadata": {
    "collapsed": false
   },
   "outputs": [
    {
     "data": {
      "text/html": [
       "<div>\n",
       "<table border=\"1\" class=\"dataframe\">\n",
       "  <thead>\n",
       "    <tr style=\"text-align: right;\">\n",
       "      <th></th>\n",
       "      <th>pred 0</th>\n",
       "      <th>pred 1</th>\n",
       "    </tr>\n",
       "  </thead>\n",
       "  <tbody>\n",
       "    <tr>\n",
       "      <th>true 0</th>\n",
       "      <td>129</td>\n",
       "      <td>187</td>\n",
       "    </tr>\n",
       "    <tr>\n",
       "      <th>true 1</th>\n",
       "      <td>66</td>\n",
       "      <td>482</td>\n",
       "    </tr>\n",
       "  </tbody>\n",
       "</table>\n",
       "</div>"
      ],
      "text/plain": [
       "        pred 0  pred 1\n",
       "true 0     129     187\n",
       "true 1      66     482"
      ]
     },
     "metadata": {},
     "output_type": "display_data"
    },
    {
     "data": {
      "image/png": "[encoded data removed]",
      "text/plain": [
       "<matplotlib.figure.Figure at 0x13b7d9110>"
      ]
     },
     "metadata": {},
     "output_type": "display_data"
    }
   ],
   "source": [
    "tpr_lst = d50_bal['tpr']\n",
    "mean_fpr = d50_bal['mean_fpr']\n",
    "conf_mat = d50_bal['conf_mat']\n",
    "\n",
    "# Extract some summary metrics\n",
    "mean_tpr = np.mean(tpr_lst, axis=0)\n",
    "roc_auc = auc(mean_fpr, mean_tpr)\n",
    "\n",
    "# Get fisher p value, sensitivity/specificity, positive/negative pred value\n",
    "_, fisher_p = fisher_exact(conf_mat)\n",
    "# conf_mat: rows are the true labels, columns are the predicted labels\n",
    "conf_mat = pd.DataFrame(conf_mat)\n",
    "conf_mat.columns = ['pred 0', 'pred 1']\n",
    "conf_mat.index = ['true 0', 'true 1']\n",
    "\n",
    "# Confusion matrix shows classifier predictions on test set in all folds\n",
    "display(conf_mat)\n",
    "\n",
    "# Plot ROC curve\n",
    "plt.figure(figsize=(5,4))\n",
    "plt.plot(mean_fpr, mean_tpr)\n",
    "std_tpr = np.std(tpr_lst, axis=0)\n",
    "tprs_upper = np.minimum(mean_tpr + std_tpr, 1)\n",
    "tprs_lower = np.maximum(mean_tpr - std_tpr, 0)\n",
    "plt.fill_between(mean_fpr, tprs_lower, tprs_upper, alpha=0.2)\n",
    "plt.xlabel('False positive rate')\n",
    "plt.ylabel('True positive rate')\n",
    "plt.title('Kingdom-level classification, mz bins with at least 50 molecules\\nClassifier with \"balanced class weights\" (I think)')\n",
    "\n",
    "plt.plot([0, 1], [0, 1])\n",
    "plt.tight_layout()"
   ]
  },
  {
   "cell_type": "markdown",
   "metadata": {},
   "source": [
    "It doesn't look like balancing classes did anything...?"
   ]
  },
  {
   "cell_type": "markdown",
   "metadata": {},
   "source": [
    "# Classify class of interest below kingdom-level\n",
    "\n",
    "Maybe the reason the classifier isn't working is that we're combining too many disparate things into our classifier.\n",
    "\n",
    "Which makes me think: we should do some dimensionality reduction and clustering and see how well molecule classes cluster together..."
   ]
  },
  {
   "cell_type": "code",
   "execution_count": 39,
   "metadata": {
    "collapsed": false
   },
   "outputs": [
    {
     "data": {
      "text/plain": [
       "super_class\n",
       "Organic compounds                          539\n",
       "Lipids and lipid-like molecules             90\n",
       "Organic acids and derivatives               55\n",
       "Organoheterocyclic compounds                45\n",
       "Organic oxygen compounds                    43\n",
       "Benzenoids                                  41\n",
       "Phenylpropanoids and polyketides            16\n",
       "Organic nitrogen compounds                  14\n",
       "Inorganic compounds                          9\n",
       "Nucleosides, nucleotides, and analogues      6\n",
       "Organosulfur compounds                       5\n",
       "Hydrocarbons                                 1\n",
       "dtype: int64"
      ]
     },
     "metadata": {},
     "output_type": "display_data"
    }
   ],
   "source": [
    "display(dfpeaks[['inchi', 'hmdb', 'super_class']].drop_duplicates().groupby('super_class').size().sort_values(ascending=False))"
   ]
  },
  {
   "cell_type": "code",
   "execution_count": 40,
   "metadata": {
    "collapsed": false
   },
   "outputs": [
    {
     "data": {
      "text/plain": [
       "cls\n",
       "Organic acids and derivatives;              170\n",
       "Lipids and lipid-like molecules;             95\n",
       "Organoheterocyclic compounds;                71\n",
       "Organic oxygen compounds;                    63\n",
       "Benzenoids;                                  51\n",
       "Nucleosides, nucleotides, and analogues;     47\n",
       "Steroids and steroid derivatives;            45\n",
       "Carboxylic acids and derivatives;            43\n",
       "Organooxygen compounds;                      43\n",
       "Fatty Acyls;                                 30\n",
       "Benzene and substituted derivatives;         28\n",
       "Phenylpropanoids and polyketides;            22\n",
       "Organic nitrogen compounds;                  16\n",
       "Organonitrogen compounds;                    14\n",
       "Prenol lipids;                               13\n",
       "Pyridines and derivatives;                   10\n",
       "Phenols;                                     10\n",
       "Homogeneous non-metal compounds;              9\n",
       "Imidazopyrimidines;                           6\n",
       "Indoles and derivatives;                      6\n",
       "dtype: int64"
      ]
     },
     "metadata": {},
     "output_type": "display_data"
    }
   ],
   "source": [
    "display(dfpeaks[['inchi', 'hmdb', 'cls']].drop_duplicates().groupby('cls').size().sort_values(ascending=False).head(20))"
   ]
  },
  {
   "cell_type": "markdown",
   "metadata": {},
   "source": [
    "## Classify class level\n",
    "\n",
    "Let's only look at classes with >= 40 molecules."
   ]
  },
  {
   "cell_type": "code",
   "execution_count": 32,
   "metadata": {
    "collapsed": false
   },
   "outputs": [],
   "source": [
    "# Check how many of each class we have (kingdom-level)\n",
    "XandY = pd.merge(binarypeaks, dfpeaks[['inchi', 'cls']].drop_duplicates(),\n",
    "                 left_index=True, right_on='inchi',\n",
    "                 how='left')"
   ]
  },
  {
   "cell_type": "code",
   "execution_count": 33,
   "metadata": {
    "collapsed": false
   },
   "outputs": [
    {
     "data": {
      "text/html": [
       "<div>\n",
       "<table border=\"1\" class=\"dataframe\">\n",
       "  <thead>\n",
       "    <tr style=\"text-align: right;\">\n",
       "      <th></th>\n",
       "      <th>cls</th>\n",
       "      <th>n_mlcls</th>\n",
       "    </tr>\n",
       "  </thead>\n",
       "  <tbody>\n",
       "    <tr>\n",
       "      <th>4</th>\n",
       "      <td>Benzenoids;</td>\n",
       "      <td>51</td>\n",
       "    </tr>\n",
       "    <tr>\n",
       "      <th>6</th>\n",
       "      <td>Carboxylic acids and derivatives;</td>\n",
       "      <td>43</td>\n",
       "    </tr>\n",
       "    <tr>\n",
       "      <th>24</th>\n",
       "      <td>Lipids and lipid-like molecules;</td>\n",
       "      <td>95</td>\n",
       "    </tr>\n",
       "    <tr>\n",
       "      <th>26</th>\n",
       "      <td>Nucleosides, nucleotides, and analogues;</td>\n",
       "      <td>47</td>\n",
       "    </tr>\n",
       "    <tr>\n",
       "      <th>27</th>\n",
       "      <td>Organic acids and derivatives;</td>\n",
       "      <td>170</td>\n",
       "    </tr>\n",
       "    <tr>\n",
       "      <th>30</th>\n",
       "      <td>Organic oxygen compounds;</td>\n",
       "      <td>63</td>\n",
       "    </tr>\n",
       "    <tr>\n",
       "      <th>33</th>\n",
       "      <td>Organoheterocyclic compounds;</td>\n",
       "      <td>71</td>\n",
       "    </tr>\n",
       "    <tr>\n",
       "      <th>35</th>\n",
       "      <td>Organooxygen compounds;</td>\n",
       "      <td>43</td>\n",
       "    </tr>\n",
       "    <tr>\n",
       "      <th>52</th>\n",
       "      <td>Steroids and steroid derivatives;</td>\n",
       "      <td>45</td>\n",
       "    </tr>\n",
       "  </tbody>\n",
       "</table>\n",
       "</div>"
      ],
      "text/plain": [
       "                                         cls  n_mlcls\n",
       "4                                Benzenoids;       51\n",
       "6          Carboxylic acids and derivatives;       43\n",
       "24          Lipids and lipid-like molecules;       95\n",
       "26  Nucleosides, nucleotides, and analogues;       47\n",
       "27            Organic acids and derivatives;      170\n",
       "30                 Organic oxygen compounds;       63\n",
       "33             Organoheterocyclic compounds;       71\n",
       "35                   Organooxygen compounds;       43\n",
       "52         Steroids and steroid derivatives;       45"
      ]
     },
     "execution_count": 33,
     "metadata": {},
     "output_type": "execute_result"
    }
   ],
   "source": [
    "clscounts = (XandY.groupby('cls').size()).reset_index()\n",
    "clscounts.columns = ['cls', 'n_mlcls']\n",
    "clscounts.query('n_mlcls >= 40')"
   ]
  },
  {
   "cell_type": "code",
   "execution_count": 34,
   "metadata": {
    "collapsed": false
   },
   "outputs": [],
   "source": [
    "classes = clscounts.query('n_mlcls >=40')['cls'].tolist()\n",
    "dfpeaks_cls40 = dfpeaks.query('cls == @classes')"
   ]
  },
  {
   "cell_type": "code",
   "execution_count": 35,
   "metadata": {
    "collapsed": false
   },
   "outputs": [
    {
     "data": {
      "text/html": [
       "<div>\n",
       "<table border=\"1\" class=\"dataframe\">\n",
       "  <thead>\n",
       "    <tr style=\"text-align: right;\">\n",
       "      <th></th>\n",
       "      <th>inchi</th>\n",
       "      <th>hmdb</th>\n",
       "      <th>kingdom</th>\n",
       "      <th>super_class</th>\n",
       "      <th>sub_class</th>\n",
       "      <th>cls</th>\n",
       "      <th>molecular_framework</th>\n",
       "      <th>ms2_scan</th>\n",
       "      <th>num_peaks</th>\n",
       "      <th>mz</th>\n",
       "      <th>intensity</th>\n",
       "      <th>ion_mode</th>\n",
       "      <th>rounded_mz</th>\n",
       "    </tr>\n",
       "  </thead>\n",
       "  <tbody>\n",
       "    <tr>\n",
       "      <th>1515</th>\n",
       "      <td>CCLQKVKJOGVQLU-QMMMGPOBSA-N</td>\n",
       "      <td>HMDB0000745</td>\n",
       "      <td>Chemical entities</td>\n",
       "      <td>Organic compounds</td>\n",
       "      <td>Peptidomimetics</td>\n",
       "      <td>Organic acids and derivatives;</td>\n",
       "      <td>Aromatic heteromonocyclic compounds</td>\n",
       "      <td>0</td>\n",
       "      <td>7</td>\n",
       "      <td>86.073</td>\n",
       "      <td>5.294</td>\n",
       "      <td>Positive</td>\n",
       "      <td>86</td>\n",
       "    </tr>\n",
       "    <tr>\n",
       "      <th>1516</th>\n",
       "      <td>CCLQKVKJOGVQLU-QMMMGPOBSA-N</td>\n",
       "      <td>HMDB0000745</td>\n",
       "      <td>Chemical entities</td>\n",
       "      <td>Organic compounds</td>\n",
       "      <td>Peptidomimetics</td>\n",
       "      <td>Organic acids and derivatives;</td>\n",
       "      <td>Aromatic heteromonocyclic compounds</td>\n",
       "      <td>0</td>\n",
       "      <td>7</td>\n",
       "      <td>95.090</td>\n",
       "      <td>2.083</td>\n",
       "      <td>Positive</td>\n",
       "      <td>95</td>\n",
       "    </tr>\n",
       "    <tr>\n",
       "      <th>1517</th>\n",
       "      <td>CCLQKVKJOGVQLU-QMMMGPOBSA-N</td>\n",
       "      <td>HMDB0000745</td>\n",
       "      <td>Chemical entities</td>\n",
       "      <td>Organic compounds</td>\n",
       "      <td>Peptidomimetics</td>\n",
       "      <td>Organic acids and derivatives;</td>\n",
       "      <td>Aromatic heteromonocyclic compounds</td>\n",
       "      <td>0</td>\n",
       "      <td>7</td>\n",
       "      <td>110.056</td>\n",
       "      <td>20.588</td>\n",
       "      <td>Positive</td>\n",
       "      <td>110</td>\n",
       "    </tr>\n",
       "    <tr>\n",
       "      <th>1518</th>\n",
       "      <td>CCLQKVKJOGVQLU-QMMMGPOBSA-N</td>\n",
       "      <td>HMDB0000745</td>\n",
       "      <td>Chemical entities</td>\n",
       "      <td>Organic compounds</td>\n",
       "      <td>Peptidomimetics</td>\n",
       "      <td>Organic acids and derivatives;</td>\n",
       "      <td>Aromatic heteromonocyclic compounds</td>\n",
       "      <td>0</td>\n",
       "      <td>7</td>\n",
       "      <td>155.966</td>\n",
       "      <td>100.000</td>\n",
       "      <td>Positive</td>\n",
       "      <td>155</td>\n",
       "    </tr>\n",
       "    <tr>\n",
       "      <th>1519</th>\n",
       "      <td>CCLQKVKJOGVQLU-QMMMGPOBSA-N</td>\n",
       "      <td>HMDB0000745</td>\n",
       "      <td>Chemical entities</td>\n",
       "      <td>Organic compounds</td>\n",
       "      <td>Peptidomimetics</td>\n",
       "      <td>Organic acids and derivatives;</td>\n",
       "      <td>Aromatic heteromonocyclic compounds</td>\n",
       "      <td>0</td>\n",
       "      <td>7</td>\n",
       "      <td>223.043</td>\n",
       "      <td>9.412</td>\n",
       "      <td>Positive</td>\n",
       "      <td>223</td>\n",
       "    </tr>\n",
       "  </tbody>\n",
       "</table>\n",
       "</div>"
      ],
      "text/plain": [
       "                            inchi         hmdb            kingdom  \\\n",
       "1515  CCLQKVKJOGVQLU-QMMMGPOBSA-N  HMDB0000745  Chemical entities   \n",
       "1516  CCLQKVKJOGVQLU-QMMMGPOBSA-N  HMDB0000745  Chemical entities   \n",
       "1517  CCLQKVKJOGVQLU-QMMMGPOBSA-N  HMDB0000745  Chemical entities   \n",
       "1518  CCLQKVKJOGVQLU-QMMMGPOBSA-N  HMDB0000745  Chemical entities   \n",
       "1519  CCLQKVKJOGVQLU-QMMMGPOBSA-N  HMDB0000745  Chemical entities   \n",
       "\n",
       "            super_class        sub_class                             cls  \\\n",
       "1515  Organic compounds  Peptidomimetics  Organic acids and derivatives;   \n",
       "1516  Organic compounds  Peptidomimetics  Organic acids and derivatives;   \n",
       "1517  Organic compounds  Peptidomimetics  Organic acids and derivatives;   \n",
       "1518  Organic compounds  Peptidomimetics  Organic acids and derivatives;   \n",
       "1519  Organic compounds  Peptidomimetics  Organic acids and derivatives;   \n",
       "\n",
       "                      molecular_framework  ms2_scan  num_peaks       mz  \\\n",
       "1515  Aromatic heteromonocyclic compounds         0          7   86.073   \n",
       "1516  Aromatic heteromonocyclic compounds         0          7   95.090   \n",
       "1517  Aromatic heteromonocyclic compounds         0          7  110.056   \n",
       "1518  Aromatic heteromonocyclic compounds         0          7  155.966   \n",
       "1519  Aromatic heteromonocyclic compounds         0          7  223.043   \n",
       "\n",
       "      intensity  ion_mode  rounded_mz  \n",
       "1515      5.294  Positive          86  \n",
       "1516      2.083  Positive          95  \n",
       "1517     20.588  Positive         110  \n",
       "1518    100.000  Positive         155  \n",
       "1519      9.412  Positive         223  "
      ]
     },
     "execution_count": 35,
     "metadata": {},
     "output_type": "execute_result"
    }
   ],
   "source": [
    "dfpeaks_cls40.head()"
   ]
  },
  {
   "cell_type": "code",
   "execution_count": 36,
   "metadata": {
    "collapsed": false
   },
   "outputs": [],
   "source": [
    "def cv_train_multiclass(rf, X, Y, num_cv, random_state=12345):\n",
    "\n",
    "    cv = StratifiedKFold(Y, num_cv, shuffle=True, random_state=random_state)\n",
    "\n",
    "    tpr_lst = []\n",
    "    mean_fpr = np.linspace(0, 1, 100)\n",
    "    conf_mat = np.zeros((len(set(Y)), len(set(Y))))\n",
    "    y_probs = np.empty_like(Y)\n",
    "    y_predictions = np.empty_like(Y)\n",
    "\n",
    "    n = 0\n",
    "    for train_index, test_index in cv:\n",
    "        print(n)\n",
    "        X_train, X_test = X[train_index], X[test_index]\n",
    "        Y_train, Y_test = Y[train_index], Y[test_index]\n",
    "\n",
    "        probs = rf.fit(X_train, Y_train).predict_proba(X_test)[:,1]\n",
    "        preds = rf.predict(X_test)\n",
    "\n",
    "        # Store probability and predicted values for X_test\n",
    "        y_probs[test_index] = probs\n",
    "        y_predictions[test_index] = preds\n",
    "\n",
    "        # Compute confusion matrix\n",
    "        conf_mat += confusion_matrix(Y_test, preds)\n",
    "\n",
    "        n += 1\n",
    "    return dict(zip(['conf_mat', 'y_probs', 'y_preds'],\n",
    "                    [conf_mat, y_probs, y_predictions]))"
   ]
  },
  {
   "cell_type": "code",
   "execution_count": 37,
   "metadata": {
    "collapsed": false
   },
   "outputs": [],
   "source": [
    "inchi_keep = dfpeaks_cls40['inchi'].unique()\n",
    "binarypeaks_cls40 = binarypeaks.loc[inchi_keep]\n",
    "dfpeaks_cls40.index = dfpeaks_cls40['inchi']\n",
    "\n",
    "X = binarypeaks_cls40.values\n",
    "Y = dfpeaks_cls40[['inchi', 'cls']].drop_duplicates().loc[inchi_keep, 'cls'].values"
   ]
  },
  {
   "cell_type": "code",
   "execution_count": 38,
   "metadata": {
    "collapsed": true
   },
   "outputs": [],
   "source": [
    "# Prep for classification\n",
    "rf = RandomForestClassifier(n_estimators=1000)\n",
    "num_cv = 10"
   ]
  },
  {
   "cell_type": "code",
   "execution_count": 39,
   "metadata": {
    "collapsed": false
   },
   "outputs": [
    {
     "name": "stdout",
     "output_type": "stream",
     "text": [
      "((628, 1531), (628,))\n"
     ]
    }
   ],
   "source": [
    "print(X.shape, Y.shape)"
   ]
  },
  {
   "cell_type": "code",
   "execution_count": 40,
   "metadata": {
    "collapsed": false
   },
   "outputs": [
    {
     "data": {
      "text/plain": [
       "{'Benzenoids;',\n",
       " 'Carboxylic acids and derivatives;',\n",
       " 'Lipids and lipid-like molecules;',\n",
       " 'Nucleosides, nucleotides, and analogues;',\n",
       " 'Organic acids and derivatives;',\n",
       " 'Organic oxygen compounds;',\n",
       " 'Organoheterocyclic compounds;',\n",
       " 'Organooxygen compounds;',\n",
       " 'Steroids and steroid derivatives;'}"
      ]
     },
     "execution_count": 40,
     "metadata": {},
     "output_type": "execute_result"
    }
   ],
   "source": [
    "set(Y)"
   ]
  },
  {
   "cell_type": "code",
   "execution_count": 41,
   "metadata": {
    "collapsed": true
   },
   "outputs": [],
   "source": [
    "rf = RandomForestClassifier(n_estimators=1000, class_weight=\"balanced_subsample\")\n",
    "num_cv = 5"
   ]
  },
  {
   "cell_type": "code",
   "execution_count": 42,
   "metadata": {
    "collapsed": false
   },
   "outputs": [
    {
     "name": "stdout",
     "output_type": "stream",
     "text": [
      "0\n",
      "1\n",
      "2\n",
      "3\n",
      "4\n"
     ]
    }
   ],
   "source": [
    "dcls40 = cv_train_multiclass(rf, X, Y, num_cv)"
   ]
  },
  {
   "cell_type": "code",
   "execution_count": 43,
   "metadata": {
    "collapsed": false
   },
   "outputs": [],
   "source": [
    "conf_mat = dcls40['conf_mat']\n",
    "conf_mat = pd.DataFrame(conf_mat, index=['true_' + i for i in sorted(set(Y))],\n",
    "                       columns=['pred_' + i for i in sorted(set(Y))])"
   ]
  },
  {
   "cell_type": "markdown",
   "metadata": {},
   "source": [
    "This table below is the normalized confusion matrix showing the performance on class-level classification."
   ]
  },
  {
   "cell_type": "code",
   "execution_count": 44,
   "metadata": {
    "collapsed": false
   },
   "outputs": [
    {
     "data": {
      "text/html": [
       "<div>\n",
       "<table border=\"1\" class=\"dataframe\">\n",
       "  <thead>\n",
       "    <tr style=\"text-align: right;\">\n",
       "      <th></th>\n",
       "      <th>pred_Benzenoids;</th>\n",
       "      <th>pred_Carboxylic acids and derivatives;</th>\n",
       "      <th>pred_Lipids and lipid-like molecules;</th>\n",
       "      <th>pred_Nucleosides, nucleotides, and analogues;</th>\n",
       "      <th>pred_Organic acids and derivatives;</th>\n",
       "      <th>pred_Organic oxygen compounds;</th>\n",
       "      <th>pred_Organoheterocyclic compounds;</th>\n",
       "      <th>pred_Organooxygen compounds;</th>\n",
       "      <th>pred_Steroids and steroid derivatives;</th>\n",
       "    </tr>\n",
       "  </thead>\n",
       "  <tbody>\n",
       "    <tr>\n",
       "      <th>true_Benzenoids;</th>\n",
       "      <td>0.509804</td>\n",
       "      <td>0.000000</td>\n",
       "      <td>0.019608</td>\n",
       "      <td>0.019608</td>\n",
       "      <td>0.352941</td>\n",
       "      <td>0.000000</td>\n",
       "      <td>0.098039</td>\n",
       "      <td>0.000000</td>\n",
       "      <td>0.000000</td>\n",
       "    </tr>\n",
       "    <tr>\n",
       "      <th>true_Carboxylic acids and derivatives;</th>\n",
       "      <td>0.046512</td>\n",
       "      <td>0.139535</td>\n",
       "      <td>0.023256</td>\n",
       "      <td>0.046512</td>\n",
       "      <td>0.674419</td>\n",
       "      <td>0.000000</td>\n",
       "      <td>0.000000</td>\n",
       "      <td>0.069767</td>\n",
       "      <td>0.000000</td>\n",
       "    </tr>\n",
       "    <tr>\n",
       "      <th>true_Lipids and lipid-like molecules;</th>\n",
       "      <td>0.042105</td>\n",
       "      <td>0.000000</td>\n",
       "      <td>0.294737</td>\n",
       "      <td>0.000000</td>\n",
       "      <td>0.536842</td>\n",
       "      <td>0.010526</td>\n",
       "      <td>0.021053</td>\n",
       "      <td>0.031579</td>\n",
       "      <td>0.063158</td>\n",
       "    </tr>\n",
       "    <tr>\n",
       "      <th>true_Nucleosides, nucleotides, and analogues;</th>\n",
       "      <td>0.000000</td>\n",
       "      <td>0.021277</td>\n",
       "      <td>0.042553</td>\n",
       "      <td>0.425532</td>\n",
       "      <td>0.468085</td>\n",
       "      <td>0.021277</td>\n",
       "      <td>0.000000</td>\n",
       "      <td>0.000000</td>\n",
       "      <td>0.021277</td>\n",
       "    </tr>\n",
       "    <tr>\n",
       "      <th>true_Organic acids and derivatives;</th>\n",
       "      <td>0.041176</td>\n",
       "      <td>0.005882</td>\n",
       "      <td>0.035294</td>\n",
       "      <td>0.011765</td>\n",
       "      <td>0.847059</td>\n",
       "      <td>0.005882</td>\n",
       "      <td>0.017647</td>\n",
       "      <td>0.023529</td>\n",
       "      <td>0.011765</td>\n",
       "    </tr>\n",
       "    <tr>\n",
       "      <th>true_Organic oxygen compounds;</th>\n",
       "      <td>0.031746</td>\n",
       "      <td>0.000000</td>\n",
       "      <td>0.031746</td>\n",
       "      <td>0.015873</td>\n",
       "      <td>0.555556</td>\n",
       "      <td>0.190476</td>\n",
       "      <td>0.015873</td>\n",
       "      <td>0.126984</td>\n",
       "      <td>0.031746</td>\n",
       "    </tr>\n",
       "    <tr>\n",
       "      <th>true_Organoheterocyclic compounds;</th>\n",
       "      <td>0.028169</td>\n",
       "      <td>0.000000</td>\n",
       "      <td>0.070423</td>\n",
       "      <td>0.014085</td>\n",
       "      <td>0.394366</td>\n",
       "      <td>0.014085</td>\n",
       "      <td>0.450704</td>\n",
       "      <td>0.028169</td>\n",
       "      <td>0.000000</td>\n",
       "    </tr>\n",
       "    <tr>\n",
       "      <th>true_Organooxygen compounds;</th>\n",
       "      <td>0.000000</td>\n",
       "      <td>0.000000</td>\n",
       "      <td>0.023256</td>\n",
       "      <td>0.000000</td>\n",
       "      <td>0.372093</td>\n",
       "      <td>0.186047</td>\n",
       "      <td>0.000000</td>\n",
       "      <td>0.418605</td>\n",
       "      <td>0.000000</td>\n",
       "    </tr>\n",
       "    <tr>\n",
       "      <th>true_Steroids and steroid derivatives;</th>\n",
       "      <td>0.000000</td>\n",
       "      <td>0.000000</td>\n",
       "      <td>0.066667</td>\n",
       "      <td>0.066667</td>\n",
       "      <td>0.200000</td>\n",
       "      <td>0.000000</td>\n",
       "      <td>0.000000</td>\n",
       "      <td>0.000000</td>\n",
       "      <td>0.666667</td>\n",
       "    </tr>\n",
       "  </tbody>\n",
       "</table>\n",
       "</div>"
      ],
      "text/plain": [
       "                                               pred_Benzenoids;  \\\n",
       "true_Benzenoids;                                       0.509804   \n",
       "true_Carboxylic acids and derivatives;                 0.046512   \n",
       "true_Lipids and lipid-like molecules;                  0.042105   \n",
       "true_Nucleosides, nucleotides, and analogues;          0.000000   \n",
       "true_Organic acids and derivatives;                    0.041176   \n",
       "true_Organic oxygen compounds;                         0.031746   \n",
       "true_Organoheterocyclic compounds;                     0.028169   \n",
       "true_Organooxygen compounds;                           0.000000   \n",
       "true_Steroids and steroid derivatives;                 0.000000   \n",
       "\n",
       "                                               pred_Carboxylic acids and derivatives;  \\\n",
       "true_Benzenoids;                                                             0.000000   \n",
       "true_Carboxylic acids and derivatives;                                       0.139535   \n",
       "true_Lipids and lipid-like molecules;                                        0.000000   \n",
       "true_Nucleosides, nucleotides, and analogues;                                0.021277   \n",
       "true_Organic acids and derivatives;                                          0.005882   \n",
       "true_Organic oxygen compounds;                                               0.000000   \n",
       "true_Organoheterocyclic compounds;                                           0.000000   \n",
       "true_Organooxygen compounds;                                                 0.000000   \n",
       "true_Steroids and steroid derivatives;                                       0.000000   \n",
       "\n",
       "                                               pred_Lipids and lipid-like molecules;  \\\n",
       "true_Benzenoids;                                                            0.019608   \n",
       "true_Carboxylic acids and derivatives;                                      0.023256   \n",
       "true_Lipids and lipid-like molecules;                                       0.294737   \n",
       "true_Nucleosides, nucleotides, and analogues;                               0.042553   \n",
       "true_Organic acids and derivatives;                                         0.035294   \n",
       "true_Organic oxygen compounds;                                              0.031746   \n",
       "true_Organoheterocyclic compounds;                                          0.070423   \n",
       "true_Organooxygen compounds;                                                0.023256   \n",
       "true_Steroids and steroid derivatives;                                      0.066667   \n",
       "\n",
       "                                               pred_Nucleosides, nucleotides, and analogues;  \\\n",
       "true_Benzenoids;                                                                    0.019608   \n",
       "true_Carboxylic acids and derivatives;                                              0.046512   \n",
       "true_Lipids and lipid-like molecules;                                               0.000000   \n",
       "true_Nucleosides, nucleotides, and analogues;                                       0.425532   \n",
       "true_Organic acids and derivatives;                                                 0.011765   \n",
       "true_Organic oxygen compounds;                                                      0.015873   \n",
       "true_Organoheterocyclic compounds;                                                  0.014085   \n",
       "true_Organooxygen compounds;                                                        0.000000   \n",
       "true_Steroids and steroid derivatives;                                              0.066667   \n",
       "\n",
       "                                               pred_Organic acids and derivatives;  \\\n",
       "true_Benzenoids;                                                          0.352941   \n",
       "true_Carboxylic acids and derivatives;                                    0.674419   \n",
       "true_Lipids and lipid-like molecules;                                     0.536842   \n",
       "true_Nucleosides, nucleotides, and analogues;                             0.468085   \n",
       "true_Organic acids and derivatives;                                       0.847059   \n",
       "true_Organic oxygen compounds;                                            0.555556   \n",
       "true_Organoheterocyclic compounds;                                        0.394366   \n",
       "true_Organooxygen compounds;                                              0.372093   \n",
       "true_Steroids and steroid derivatives;                                    0.200000   \n",
       "\n",
       "                                               pred_Organic oxygen compounds;  \\\n",
       "true_Benzenoids;                                                     0.000000   \n",
       "true_Carboxylic acids and derivatives;                               0.000000   \n",
       "true_Lipids and lipid-like molecules;                                0.010526   \n",
       "true_Nucleosides, nucleotides, and analogues;                        0.021277   \n",
       "true_Organic acids and derivatives;                                  0.005882   \n",
       "true_Organic oxygen compounds;                                       0.190476   \n",
       "true_Organoheterocyclic compounds;                                   0.014085   \n",
       "true_Organooxygen compounds;                                         0.186047   \n",
       "true_Steroids and steroid derivatives;                               0.000000   \n",
       "\n",
       "                                               pred_Organoheterocyclic compounds;  \\\n",
       "true_Benzenoids;                                                         0.098039   \n",
       "true_Carboxylic acids and derivatives;                                   0.000000   \n",
       "true_Lipids and lipid-like molecules;                                    0.021053   \n",
       "true_Nucleosides, nucleotides, and analogues;                            0.000000   \n",
       "true_Organic acids and derivatives;                                      0.017647   \n",
       "true_Organic oxygen compounds;                                           0.015873   \n",
       "true_Organoheterocyclic compounds;                                       0.450704   \n",
       "true_Organooxygen compounds;                                             0.000000   \n",
       "true_Steroids and steroid derivatives;                                   0.000000   \n",
       "\n",
       "                                               pred_Organooxygen compounds;  \\\n",
       "true_Benzenoids;                                                   0.000000   \n",
       "true_Carboxylic acids and derivatives;                             0.069767   \n",
       "true_Lipids and lipid-like molecules;                              0.031579   \n",
       "true_Nucleosides, nucleotides, and analogues;                      0.000000   \n",
       "true_Organic acids and derivatives;                                0.023529   \n",
       "true_Organic oxygen compounds;                                     0.126984   \n",
       "true_Organoheterocyclic compounds;                                 0.028169   \n",
       "true_Organooxygen compounds;                                       0.418605   \n",
       "true_Steroids and steroid derivatives;                             0.000000   \n",
       "\n",
       "                                               pred_Steroids and steroid derivatives;  \n",
       "true_Benzenoids;                                                             0.000000  \n",
       "true_Carboxylic acids and derivatives;                                       0.000000  \n",
       "true_Lipids and lipid-like molecules;                                        0.063158  \n",
       "true_Nucleosides, nucleotides, and analogues;                                0.021277  \n",
       "true_Organic acids and derivatives;                                          0.011765  \n",
       "true_Organic oxygen compounds;                                               0.031746  \n",
       "true_Organoheterocyclic compounds;                                           0.000000  \n",
       "true_Organooxygen compounds;                                                 0.000000  \n",
       "true_Steroids and steroid derivatives;                                       0.666667  "
      ]
     },
     "execution_count": 44,
     "metadata": {},
     "output_type": "execute_result"
    }
   ],
   "source": [
    "# Normalize confusion matrix by number of elements in each true class\n",
    "conf_mat.divide(conf_mat.sum(axis=1), axis=0)"
   ]
  },
  {
   "cell_type": "code",
   "execution_count": 47,
   "metadata": {
    "collapsed": false
   },
   "outputs": [],
   "source": [
    "# Normalize confusion matrix by number of elements in each true class\n",
    "conf_mat.divide(conf_mat.sum(axis=1), axis=0).to_csv('class_classifier_confmat.csv')"
   ]
  },
  {
   "cell_type": "code",
   "execution_count": 45,
   "metadata": {
    "collapsed": false
   },
   "outputs": [
    {
     "data": {
      "text/plain": [
       "<matplotlib.text.Text at 0x135499690>"
      ]
     },
     "execution_count": 45,
     "metadata": {},
     "output_type": "execute_result"
    },
    {
     "data": {
      "image/png": "[encoded data removed]",
      "text/plain": [
       "<matplotlib.figure.Figure at 0x13355d590>"
      ]
     },
     "metadata": {},
     "output_type": "display_data"
    }
   ],
   "source": [
    "sns.set_style('white')\n",
    "plt.imshow(conf_mat.divide(conf_mat.sum(axis=1), axis=0), interpolation='nearest')\n",
    "plt.title(\"Confusion matrix for class-level. Columns = predicted, rows = true label\")"
   ]
  },
  {
   "cell_type": "code",
   "execution_count": 46,
   "metadata": {
    "collapsed": false
   },
   "outputs": [
    {
     "name": "stdout",
     "output_type": "stream",
     "text": [
      "These are the order of labels in rows and columns\n",
      "0: Benzenoids;\n",
      "1: Carboxylic acids and derivatives;\n",
      "2: Lipids and lipid-like molecules;\n",
      "3: Nucleosides, nucleotides, and analogues;\n",
      "4: Organic acids and derivatives;\n",
      "5: Organic oxygen compounds;\n",
      "6: Organoheterocyclic compounds;\n",
      "7: Organooxygen compounds;\n",
      "8: Steroids and steroid derivatives;\n"
     ]
    }
   ],
   "source": [
    "print('These are the order of labels in rows and columns')\n",
    "print('\\n'.join([str(i) + ': ' + conf_mat.columns[i].split('_')[1] for i in range(len(conf_mat.columns))]))"
   ]
  },
  {
   "cell_type": "markdown",
   "metadata": {},
   "source": [
    "Ooooo looks like high specificity for steroids!\n",
    "\n",
    "Also looks like predicting \"organic acids and derivatives\" is fairly meaningless - perhaps this is another example of a classification that is too variable to have generalizable signal for the classifier to pull out.\n",
    "\n",
    "Interestingly, there aren't any particular patterns about specific classes being consistently misclassified as other things.\n",
    "\n",
    "Well, maybe there's a bit of confusion between organooxygen compounds and organic oxygen compounds, which sounds fairly understandable. I wonder if these are two words for the same thing...?"
   ]
  },
  {
   "cell_type": "markdown",
   "metadata": {},
   "source": [
    "# To do\n",
    "\n",
    "- dealing with multiple MS2s   \n",
    "    - do all of these same classifiers without merging MS2s (i.e. each individual scan is one observation, rather than combining scans from same molecule into one observation)      \n",
    "    - make sure signals are not confounded with positive/negative mode   \n",
    "    - Julian mentioned that HMDB's predicted MS2s are actually pretty good, and in many cases better than the experimental ones. Do we have the predicted MS2's? Can we do our analyses just on this subset?   \n",
    "- feature engineering\n",
    "    - different sized mz bins? (how large can we make the bins without breaking classifier?)    \n",
    "    - data-driven bin definitions (i.e. quantile-based definition. here also: how large can we make the bings without breaking classifier?)   \n",
    "    - different thresholds for bin selection? (i.e. bin is present in at least N molecules)   \n",
    "    - MS2LDA!!!   \n",
    "- classification problem / labeling    \n",
    "    - multi-class classification vs. one vs all (do these give us different answers and interpretations? what is the more useful problem?)    \n",
    "    - check the taxonomy labels:\n",
    "        - are they hierarchical? i.e. are all lipid sub-classes in the same super class, or are any labels polyphyletic?    \n",
    "        - are they consistent? i.e. are there different names for the same thing, especially in the low-count labels? \n",
    "    - repeat analysis for all chemical taxonomy levels    \n",
    "- data quality    \n",
    "    - how much additional info is in MassBank?    \n",
    "    - can we just scrape the HMDB website directly? seems like web pages have (1) more frequently filled-out taxonomy hierarchiers than in the xmls and (2) direct links to the predicted LC-MS/MS (which may not be present in our data?)    "
   ]
  },
  {
   "cell_type": "code",
   "execution_count": null,
   "metadata": {
    "collapsed": true
   },
   "outputs": [],
   "source": []
  }
 ],
 "metadata": {
  "anaconda-cloud": {},
  "kernelspec": {
   "display_name": "Python [default]",
   "language": "python",
   "name": "python2"
  },
  "language_info": {
   "codemirror_mode": {
    "name": "ipython",
    "version": 2
   },
   "file_extension": ".py",
   "mimetype": "text/x-python",
   "name": "python",
   "nbconvert_exporter": "python",
   "pygments_lexer": "ipython2",
   "version": "2.7.12"
  }
 },
 "nbformat": 4,
 "nbformat_minor": 2
}
